{
 "cells": [
  {
   "cell_type": "markdown",
   "id": "f7b5099d",
   "metadata": {},
   "source": [
    "## Stats"
   ]
  },
  {
   "cell_type": "code",
   "execution_count": 1,
   "id": "69be3483",
   "metadata": {},
   "outputs": [],
   "source": [
    "import pandas as pd\n",
    "import numpy as np\n",
    "import seaborn as sns\n",
    "import matplotlib.pyplot as plt\n",
    "from scipy import stats as st\n",
    "import pylab"
   ]
  },
  {
   "cell_type": "code",
   "execution_count": 2,
   "id": "d2559d14",
   "metadata": {},
   "outputs": [],
   "source": [
    "import warnings\n",
    "warnings.simplefilter(\"ignore\")"
   ]
  },
  {
   "cell_type": "markdown",
   "id": "dbc7a231",
   "metadata": {},
   "source": [
    "## Measures of central tendency"
   ]
  },
  {
   "cell_type": "code",
   "execution_count": 3,
   "id": "949bc87e",
   "metadata": {},
   "outputs": [
    {
     "data": {
      "text/plain": [
       "153.0"
      ]
     },
     "execution_count": 3,
     "metadata": {},
     "output_type": "execute_result"
    }
   ],
   "source": [
    "l=[150,152,153,151,154,156,155]\n",
    "np.mean(l)"
   ]
  },
  {
   "cell_type": "code",
   "execution_count": 4,
   "id": "d246751a",
   "metadata": {},
   "outputs": [
    {
     "data": {
      "text/plain": [
       "153.0"
      ]
     },
     "execution_count": 4,
     "metadata": {},
     "output_type": "execute_result"
    }
   ],
   "source": [
    "np.median(l)"
   ]
  },
  {
   "cell_type": "code",
   "execution_count": 5,
   "id": "23c4778f",
   "metadata": {},
   "outputs": [
    {
     "data": {
      "text/plain": [
       "ModeResult(mode=array([150]), count=array([1]))"
      ]
     },
     "execution_count": 5,
     "metadata": {},
     "output_type": "execute_result"
    }
   ],
   "source": [
    "st.mode(l)"
   ]
  },
  {
   "cell_type": "markdown",
   "id": "e6bbcb1d",
   "metadata": {},
   "source": [
    "## Measures of Dispersion/Spread"
   ]
  },
  {
   "cell_type": "markdown",
   "id": "c2f3c2f4",
   "metadata": {},
   "source": [
    "- **variance** matric is used when mean fails"
   ]
  },
  {
   "cell_type": "markdown",
   "id": "5d9bdb4c",
   "metadata": {},
   "source": [
    "#### variance"
   ]
  },
  {
   "cell_type": "code",
   "execution_count": 6,
   "id": "7585ee42",
   "metadata": {},
   "outputs": [
    {
     "data": {
      "text/plain": [
       "4.0"
      ]
     },
     "execution_count": 6,
     "metadata": {},
     "output_type": "execute_result"
    }
   ],
   "source": [
    "np.var(l)"
   ]
  },
  {
   "cell_type": "markdown",
   "id": "622ddd63",
   "metadata": {},
   "source": [
    "#### Standard Deviationn"
   ]
  },
  {
   "cell_type": "code",
   "execution_count": 7,
   "id": "9d1258b8",
   "metadata": {},
   "outputs": [
    {
     "data": {
      "text/plain": [
       "2.0"
      ]
     },
     "execution_count": 7,
     "metadata": {},
     "output_type": "execute_result"
    }
   ],
   "source": [
    "np.std(l)"
   ]
  },
  {
   "cell_type": "markdown",
   "id": "052fd615",
   "metadata": {},
   "source": [
    "#### Range"
   ]
  },
  {
   "cell_type": "code",
   "execution_count": 8,
   "id": "1b152cd7",
   "metadata": {},
   "outputs": [
    {
     "data": {
      "text/plain": [
       "6"
      ]
     },
     "execution_count": 8,
     "metadata": {},
     "output_type": "execute_result"
    }
   ],
   "source": [
    "range1=np.max(l)-np.min(l)\n",
    "range1"
   ]
  },
  {
   "cell_type": "markdown",
   "id": "b2d107b4",
   "metadata": {},
   "source": [
    "- Quartile "
   ]
  },
  {
   "cell_type": "markdown",
   "id": "3e568609",
   "metadata": {},
   "source": [
    "### Percentile"
   ]
  },
  {
   "cell_type": "code",
   "execution_count": 9,
   "id": "6f3d2e2f",
   "metadata": {},
   "outputs": [
    {
     "data": {
      "text/plain": [
       "20"
      ]
     },
     "execution_count": 9,
     "metadata": {},
     "output_type": "execute_result"
    }
   ],
   "source": [
    "l=[2,2,3,4,5,5,5,6,7,8,8,8,8,8,9,9,10,10,11,12] ## index start from 1 not 0\n",
    "len(l)"
   ]
  },
  {
   "cell_type": "code",
   "execution_count": 10,
   "id": "1d067a59",
   "metadata": {},
   "outputs": [],
   "source": [
    "## 25 percentile and 20 percentile\n",
    "## step 1 data should be sorted\n"
   ]
  },
  {
   "cell_type": "code",
   "execution_count": 11,
   "id": "3fac6e12",
   "metadata": {},
   "outputs": [
    {
     "data": {
      "text/plain": [
       "5.25"
      ]
     },
     "execution_count": 11,
     "metadata": {},
     "output_type": "execute_result"
    }
   ],
   "source": [
    "25*(21)/100## index value"
   ]
  },
  {
   "cell_type": "markdown",
   "id": "e13bfe86",
   "metadata": {},
   "source": [
    "- so here 25 percentile is 5 \n",
    "- 25 % data points in our data is less than 5"
   ]
  },
  {
   "cell_type": "code",
   "execution_count": 12,
   "id": "289cb1c0",
   "metadata": {},
   "outputs": [
    {
     "data": {
      "text/plain": [
       "4.2"
      ]
     },
     "execution_count": 12,
     "metadata": {},
     "output_type": "execute_result"
    }
   ],
   "source": [
    "20*(21)/100"
   ]
  },
  {
   "cell_type": "code",
   "execution_count": 13,
   "id": "455a87f9",
   "metadata": {},
   "outputs": [
    {
     "data": {
      "text/plain": [
       "array([4.8, 5. , 5. ])"
      ]
     },
     "execution_count": 13,
     "metadata": {},
     "output_type": "execute_result"
    }
   ],
   "source": [
    "np.percentile(l,[20,25,30]) ## direct value of percentile in data"
   ]
  },
  {
   "cell_type": "code",
   "execution_count": 14,
   "id": "020563e3",
   "metadata": {},
   "outputs": [
    {
     "data": {
      "text/plain": [
       "array([4.8, 5. , 5. ])"
      ]
     },
     "execution_count": 14,
     "metadata": {},
     "output_type": "execute_result"
    }
   ],
   "source": [
    "np.quantile(l,[.20,.25,.30])"
   ]
  },
  {
   "cell_type": "markdown",
   "id": "c08e519b",
   "metadata": {},
   "source": [
    "- 25 % data points in our data is less than 5\n",
    "- 20 % data points in our data is less than 4\n",
    "- 30 % data points in our data is less than 5"
   ]
  },
  {
   "cell_type": "code",
   "execution_count": 15,
   "id": "2088f64a",
   "metadata": {},
   "outputs": [],
   "source": [
    "## students scroes are 40,45,49,53,61,65,71,79,85,91. what is the percentile for scroe 71"
   ]
  },
  {
   "cell_type": "code",
   "execution_count": 16,
   "id": "3afefb2e",
   "metadata": {},
   "outputs": [
    {
     "data": {
      "text/plain": [
       "60.0"
      ]
     },
     "execution_count": 16,
     "metadata": {},
     "output_type": "execute_result"
    }
   ],
   "source": [
    "percentile=(6/10)*100\n",
    "percentile"
   ]
  },
  {
   "cell_type": "markdown",
   "id": "4d608ccb",
   "metadata": {},
   "source": [
    "- 71 marks is 60 percentile of total percentile"
   ]
  },
  {
   "cell_type": "markdown",
   "id": "7720faea",
   "metadata": {},
   "source": [
    "## Measures of symmetry\n",
    "- it is called skewness"
   ]
  },
  {
   "cell_type": "code",
   "execution_count": 17,
   "id": "32f22133",
   "metadata": {},
   "outputs": [
    {
     "data": {
      "text/plain": [
       "0.6156693097601358"
      ]
     },
     "execution_count": 17,
     "metadata": {},
     "output_type": "execute_result"
    }
   ],
   "source": [
    "a=[150,151,135,156,157,200,201,145,167,189,170,156]\n",
    "st.skew(a)"
   ]
  },
  {
   "cell_type": "code",
   "execution_count": 18,
   "id": "e9bee029",
   "metadata": {},
   "outputs": [
    {
     "data": {
      "image/png": "[encoded data removed]",
      "text/plain": [
       "<Figure size 432x288 with 1 Axes>"
      ]
     },
     "metadata": {
      "needs_background": "light"
     },
     "output_type": "display_data"
    }
   ],
   "source": [
    "sns.distplot(a);"
   ]
  },
  {
   "cell_type": "markdown",
   "id": "feb82a0d",
   "metadata": {},
   "source": [
    "## Measures of peakness\n",
    "- it is called kurtosis\n",
    "- standard value excxess kurtosis=0\n",
    "-  standard value kurtosis=3"
   ]
  },
  {
   "cell_type": "markdown",
   "id": "b5c2c58b",
   "metadata": {},
   "source": [
    "- by default it gives excess kurtosis"
   ]
  },
  {
   "cell_type": "code",
   "execution_count": 19,
   "id": "d4d8cd1d",
   "metadata": {},
   "outputs": [
    {
     "data": {
      "text/plain": [
       "-0.830564905210788"
      ]
     },
     "execution_count": 19,
     "metadata": {},
     "output_type": "execute_result"
    }
   ],
   "source": [
    "st.kurtosis(a) ## Excess kurtosis"
   ]
  },
  {
   "cell_type": "markdown",
   "id": "e941c564",
   "metadata": {},
   "source": [
    "- fisher= false gives normal kurtosis"
   ]
  },
  {
   "cell_type": "code",
   "execution_count": 20,
   "id": "2975e168",
   "metadata": {},
   "outputs": [
    {
     "data": {
      "text/plain": [
       "2.169435094789212"
      ]
     },
     "execution_count": 20,
     "metadata": {},
     "output_type": "execute_result"
    }
   ],
   "source": [
    "st.kurtosis(a,fisher=False) ## kurtosis"
   ]
  },
  {
   "cell_type": "code",
   "execution_count": 21,
   "id": "83df573c",
   "metadata": {},
   "outputs": [],
   "source": [
    "# loc is mean\n",
    "# scale is std deviation\n",
    "a=np.random.normal(loc=60,scale=5,size=10000)"
   ]
  },
  {
   "cell_type": "markdown",
   "id": "c12edaf7",
   "metadata": {},
   "source": [
    "## QQ plot"
   ]
  },
  {
   "cell_type": "code",
   "execution_count": 22,
   "id": "85056a4f",
   "metadata": {},
   "outputs": [
    {
     "data": {
      "image/png": "[encoded data removed]",
      "text/plain": [
       "<Figure size 432x288 with 1 Axes>"
      ]
     },
     "metadata": {
      "needs_background": "light"
     },
     "output_type": "display_data"
    }
   ],
   "source": [
    "import pylab\n",
    "st.probplot(a,dist=\"norm\",plot=pylab);"
   ]
  },
  {
   "cell_type": "markdown",
   "id": "f8f673d9",
   "metadata": {},
   "source": [
    "### if all the point or 99% of point lies on the red line than it is normal distribution"
   ]
  },
  {
   "cell_type": "code",
   "execution_count": 23,
   "id": "ae0974d9",
   "metadata": {},
   "outputs": [
    {
     "data": {
      "text/plain": [
       "59.901466569490175"
      ]
     },
     "execution_count": 23,
     "metadata": {},
     "output_type": "execute_result"
    }
   ],
   "source": [
    "np.mean(a)"
   ]
  },
  {
   "cell_type": "code",
   "execution_count": 24,
   "id": "1b854b12",
   "metadata": {},
   "outputs": [
    {
     "data": {
      "text/plain": [
       "59.872214441586806"
      ]
     },
     "execution_count": 24,
     "metadata": {},
     "output_type": "execute_result"
    }
   ],
   "source": [
    "np.median(a)"
   ]
  },
  {
   "cell_type": "code",
   "execution_count": 25,
   "id": "6e302aa2",
   "metadata": {},
   "outputs": [
    {
     "data": {
      "text/plain": [
       "ModeResult(mode=array([39.11784146]), count=array([1]))"
      ]
     },
     "execution_count": 25,
     "metadata": {},
     "output_type": "execute_result"
    }
   ],
   "source": [
    "st.mode(a)"
   ]
  },
  {
   "cell_type": "markdown",
   "id": "dbc3f564",
   "metadata": {},
   "source": [
    "### here mode value is takem  due to random values hence most reliable method is QQ Plot"
   ]
  },
  {
   "cell_type": "code",
   "execution_count": 26,
   "id": "6838869c",
   "metadata": {},
   "outputs": [
    {
     "data": {
      "text/plain": [
       "-0.01878237938900192"
      ]
     },
     "execution_count": 26,
     "metadata": {},
     "output_type": "execute_result"
    }
   ],
   "source": [
    "st.skew(a)"
   ]
  },
  {
   "cell_type": "markdown",
   "id": "b909192f",
   "metadata": {},
   "source": [
    "### here skweness is very close to 0 so we can say it is normal distribution"
   ]
  },
  {
   "cell_type": "markdown",
   "id": "35c1cfb2",
   "metadata": {},
   "source": [
    "## Transformation"
   ]
  },
  {
   "cell_type": "code",
   "execution_count": 27,
   "id": "d9d83897",
   "metadata": {},
   "outputs": [
    {
     "data": {
      "text/html": [
       "<div>\n",
       "<style scoped>\n",
       "    .dataframe tbody tr th:only-of-type {\n",
       "        vertical-align: middle;\n",
       "    }\n",
       "\n",
       "    .dataframe tbody tr th {\n",
       "        vertical-align: top;\n",
       "    }\n",
       "\n",
       "    .dataframe thead th {\n",
       "        text-align: right;\n",
       "    }\n",
       "</style>\n",
       "<table border=\"1\" class=\"dataframe\">\n",
       "  <thead>\n",
       "    <tr style=\"text-align: right;\">\n",
       "      <th></th>\n",
       "      <th>survived</th>\n",
       "      <th>pclass</th>\n",
       "      <th>sex</th>\n",
       "      <th>age</th>\n",
       "      <th>sibsp</th>\n",
       "      <th>parch</th>\n",
       "      <th>fare</th>\n",
       "      <th>embarked</th>\n",
       "      <th>class</th>\n",
       "      <th>who</th>\n",
       "      <th>adult_male</th>\n",
       "      <th>deck</th>\n",
       "      <th>embark_town</th>\n",
       "      <th>alive</th>\n",
       "      <th>alone</th>\n",
       "    </tr>\n",
       "  </thead>\n",
       "  <tbody>\n",
       "    <tr>\n",
       "      <th>0</th>\n",
       "      <td>0</td>\n",
       "      <td>3</td>\n",
       "      <td>male</td>\n",
       "      <td>22.0</td>\n",
       "      <td>1</td>\n",
       "      <td>0</td>\n",
       "      <td>7.2500</td>\n",
       "      <td>S</td>\n",
       "      <td>Third</td>\n",
       "      <td>man</td>\n",
       "      <td>True</td>\n",
       "      <td>NaN</td>\n",
       "      <td>Southampton</td>\n",
       "      <td>no</td>\n",
       "      <td>False</td>\n",
       "    </tr>\n",
       "    <tr>\n",
       "      <th>1</th>\n",
       "      <td>1</td>\n",
       "      <td>1</td>\n",
       "      <td>female</td>\n",
       "      <td>38.0</td>\n",
       "      <td>1</td>\n",
       "      <td>0</td>\n",
       "      <td>71.2833</td>\n",
       "      <td>C</td>\n",
       "      <td>First</td>\n",
       "      <td>woman</td>\n",
       "      <td>False</td>\n",
       "      <td>C</td>\n",
       "      <td>Cherbourg</td>\n",
       "      <td>yes</td>\n",
       "      <td>False</td>\n",
       "    </tr>\n",
       "    <tr>\n",
       "      <th>2</th>\n",
       "      <td>1</td>\n",
       "      <td>3</td>\n",
       "      <td>female</td>\n",
       "      <td>26.0</td>\n",
       "      <td>0</td>\n",
       "      <td>0</td>\n",
       "      <td>7.9250</td>\n",
       "      <td>S</td>\n",
       "      <td>Third</td>\n",
       "      <td>woman</td>\n",
       "      <td>False</td>\n",
       "      <td>NaN</td>\n",
       "      <td>Southampton</td>\n",
       "      <td>yes</td>\n",
       "      <td>True</td>\n",
       "    </tr>\n",
       "    <tr>\n",
       "      <th>3</th>\n",
       "      <td>1</td>\n",
       "      <td>1</td>\n",
       "      <td>female</td>\n",
       "      <td>35.0</td>\n",
       "      <td>1</td>\n",
       "      <td>0</td>\n",
       "      <td>53.1000</td>\n",
       "      <td>S</td>\n",
       "      <td>First</td>\n",
       "      <td>woman</td>\n",
       "      <td>False</td>\n",
       "      <td>C</td>\n",
       "      <td>Southampton</td>\n",
       "      <td>yes</td>\n",
       "      <td>False</td>\n",
       "    </tr>\n",
       "    <tr>\n",
       "      <th>4</th>\n",
       "      <td>0</td>\n",
       "      <td>3</td>\n",
       "      <td>male</td>\n",
       "      <td>35.0</td>\n",
       "      <td>0</td>\n",
       "      <td>0</td>\n",
       "      <td>8.0500</td>\n",
       "      <td>S</td>\n",
       "      <td>Third</td>\n",
       "      <td>man</td>\n",
       "      <td>True</td>\n",
       "      <td>NaN</td>\n",
       "      <td>Southampton</td>\n",
       "      <td>no</td>\n",
       "      <td>True</td>\n",
       "    </tr>\n",
       "    <tr>\n",
       "      <th>...</th>\n",
       "      <td>...</td>\n",
       "      <td>...</td>\n",
       "      <td>...</td>\n",
       "      <td>...</td>\n",
       "      <td>...</td>\n",
       "      <td>...</td>\n",
       "      <td>...</td>\n",
       "      <td>...</td>\n",
       "      <td>...</td>\n",
       "      <td>...</td>\n",
       "      <td>...</td>\n",
       "      <td>...</td>\n",
       "      <td>...</td>\n",
       "      <td>...</td>\n",
       "      <td>...</td>\n",
       "    </tr>\n",
       "    <tr>\n",
       "      <th>886</th>\n",
       "      <td>0</td>\n",
       "      <td>2</td>\n",
       "      <td>male</td>\n",
       "      <td>27.0</td>\n",
       "      <td>0</td>\n",
       "      <td>0</td>\n",
       "      <td>13.0000</td>\n",
       "      <td>S</td>\n",
       "      <td>Second</td>\n",
       "      <td>man</td>\n",
       "      <td>True</td>\n",
       "      <td>NaN</td>\n",
       "      <td>Southampton</td>\n",
       "      <td>no</td>\n",
       "      <td>True</td>\n",
       "    </tr>\n",
       "    <tr>\n",
       "      <th>887</th>\n",
       "      <td>1</td>\n",
       "      <td>1</td>\n",
       "      <td>female</td>\n",
       "      <td>19.0</td>\n",
       "      <td>0</td>\n",
       "      <td>0</td>\n",
       "      <td>30.0000</td>\n",
       "      <td>S</td>\n",
       "      <td>First</td>\n",
       "      <td>woman</td>\n",
       "      <td>False</td>\n",
       "      <td>B</td>\n",
       "      <td>Southampton</td>\n",
       "      <td>yes</td>\n",
       "      <td>True</td>\n",
       "    </tr>\n",
       "    <tr>\n",
       "      <th>888</th>\n",
       "      <td>0</td>\n",
       "      <td>3</td>\n",
       "      <td>female</td>\n",
       "      <td>NaN</td>\n",
       "      <td>1</td>\n",
       "      <td>2</td>\n",
       "      <td>23.4500</td>\n",
       "      <td>S</td>\n",
       "      <td>Third</td>\n",
       "      <td>woman</td>\n",
       "      <td>False</td>\n",
       "      <td>NaN</td>\n",
       "      <td>Southampton</td>\n",
       "      <td>no</td>\n",
       "      <td>False</td>\n",
       "    </tr>\n",
       "    <tr>\n",
       "      <th>889</th>\n",
       "      <td>1</td>\n",
       "      <td>1</td>\n",
       "      <td>male</td>\n",
       "      <td>26.0</td>\n",
       "      <td>0</td>\n",
       "      <td>0</td>\n",
       "      <td>30.0000</td>\n",
       "      <td>C</td>\n",
       "      <td>First</td>\n",
       "      <td>man</td>\n",
       "      <td>True</td>\n",
       "      <td>C</td>\n",
       "      <td>Cherbourg</td>\n",
       "      <td>yes</td>\n",
       "      <td>True</td>\n",
       "    </tr>\n",
       "    <tr>\n",
       "      <th>890</th>\n",
       "      <td>0</td>\n",
       "      <td>3</td>\n",
       "      <td>male</td>\n",
       "      <td>32.0</td>\n",
       "      <td>0</td>\n",
       "      <td>0</td>\n",
       "      <td>7.7500</td>\n",
       "      <td>Q</td>\n",
       "      <td>Third</td>\n",
       "      <td>man</td>\n",
       "      <td>True</td>\n",
       "      <td>NaN</td>\n",
       "      <td>Queenstown</td>\n",
       "      <td>no</td>\n",
       "      <td>True</td>\n",
       "    </tr>\n",
       "  </tbody>\n",
       "</table>\n",
       "<p>891 rows × 15 columns</p>\n",
       "</div>"
      ],
      "text/plain": [
       "     survived  pclass     sex   age  sibsp  parch     fare embarked   class  \\\n",
       "0           0       3    male  22.0      1      0   7.2500        S   Third   \n",
       "1           1       1  female  38.0      1      0  71.2833        C   First   \n",
       "2           1       3  female  26.0      0      0   7.9250        S   Third   \n",
       "3           1       1  female  35.0      1      0  53.1000        S   First   \n",
       "4           0       3    male  35.0      0      0   8.0500        S   Third   \n",
       "..        ...     ...     ...   ...    ...    ...      ...      ...     ...   \n",
       "886         0       2    male  27.0      0      0  13.0000        S  Second   \n",
       "887         1       1  female  19.0      0      0  30.0000        S   First   \n",
       "888         0       3  female   NaN      1      2  23.4500        S   Third   \n",
       "889         1       1    male  26.0      0      0  30.0000        C   First   \n",
       "890         0       3    male  32.0      0      0   7.7500        Q   Third   \n",
       "\n",
       "       who  adult_male deck  embark_town alive  alone  \n",
       "0      man        True  NaN  Southampton    no  False  \n",
       "1    woman       False    C    Cherbourg   yes  False  \n",
       "2    woman       False  NaN  Southampton   yes   True  \n",
       "3    woman       False    C  Southampton   yes  False  \n",
       "4      man        True  NaN  Southampton    no   True  \n",
       "..     ...         ...  ...          ...   ...    ...  \n",
       "886    man        True  NaN  Southampton    no   True  \n",
       "887  woman       False    B  Southampton   yes   True  \n",
       "888  woman       False  NaN  Southampton    no  False  \n",
       "889    man        True    C    Cherbourg   yes   True  \n",
       "890    man        True  NaN   Queenstown    no   True  \n",
       "\n",
       "[891 rows x 15 columns]"
      ]
     },
     "execution_count": 27,
     "metadata": {},
     "output_type": "execute_result"
    }
   ],
   "source": [
    "df=sns.load_dataset(\"titanic\")\n",
    "df"
   ]
  },
  {
   "cell_type": "code",
   "execution_count": 28,
   "id": "2bac5aaa",
   "metadata": {},
   "outputs": [
    {
     "data": {
      "image/png": "[encoded data removed]",
      "text/plain": [
       "<Figure size 432x288 with 1 Axes>"
      ]
     },
     "metadata": {
      "needs_background": "light"
     },
     "output_type": "display_data"
    }
   ],
   "source": [
    "st.probplot(df[\"fare\"],dist=\"norm\",plot=pylab);"
   ]
  },
  {
   "cell_type": "code",
   "execution_count": 29,
   "id": "67c03713",
   "metadata": {},
   "outputs": [
    {
     "data": {
      "text/plain": [
       "4.787316519674893"
      ]
     },
     "execution_count": 29,
     "metadata": {},
     "output_type": "execute_result"
    }
   ],
   "source": [
    "df[\"fare\"].skew()"
   ]
  },
  {
   "cell_type": "code",
   "execution_count": 30,
   "id": "51848237",
   "metadata": {},
   "outputs": [
    {
     "data": {
      "image/png": "[encoded data removed]",
      "text/plain": [
       "<Figure size 432x288 with 1 Axes>"
      ]
     },
     "metadata": {
      "needs_background": "light"
     },
     "output_type": "display_data"
    }
   ],
   "source": [
    "sns.distplot(df[\"fare\"]);"
   ]
  },
  {
   "cell_type": "code",
   "execution_count": 31,
   "id": "1643dc0d",
   "metadata": {},
   "outputs": [
    {
     "data": {
      "text/plain": [
       "32.2042079685746"
      ]
     },
     "execution_count": 31,
     "metadata": {},
     "output_type": "execute_result"
    }
   ],
   "source": [
    "df[\"fare\"].mean()"
   ]
  },
  {
   "cell_type": "code",
   "execution_count": 32,
   "id": "ee20df08",
   "metadata": {},
   "outputs": [
    {
     "data": {
      "text/plain": [
       "0    8.05\n",
       "Name: fare, dtype: float64"
      ]
     },
     "execution_count": 32,
     "metadata": {},
     "output_type": "execute_result"
    }
   ],
   "source": [
    "df[\"fare\"].mode()"
   ]
  },
  {
   "cell_type": "code",
   "execution_count": 33,
   "id": "d8757f45",
   "metadata": {},
   "outputs": [
    {
     "data": {
      "text/plain": [
       "14.4542"
      ]
     },
     "execution_count": 33,
     "metadata": {},
     "output_type": "execute_result"
    }
   ],
   "source": [
    "df[\"fare\"].median()"
   ]
  },
  {
   "cell_type": "markdown",
   "id": "57ecf59f",
   "metadata": {},
   "source": [
    "- it is not a normal disribution since we check it from all the methods"
   ]
  },
  {
   "cell_type": "markdown",
   "id": "1ad85336",
   "metadata": {},
   "source": [
    "- since it is right skewed so we use **log transformation**\n",
    "- np.log(df[\"fare\"])\n"
   ]
  },
  {
   "cell_type": "code",
   "execution_count": 34,
   "id": "2d22dc6d",
   "metadata": {},
   "outputs": [
    {
     "data": {
      "text/plain": [
       "FunctionTransformer(func=<ufunc 'log1p'>)"
      ]
     },
     "execution_count": 34,
     "metadata": {},
     "output_type": "execute_result"
    }
   ],
   "source": [
    "from sklearn.preprocessing import FunctionTransformer\n",
    "f=FunctionTransformer(func=np.log1p)\n",
    "fare_t=f.fit(df[\"fare\"])\n",
    "fare_t"
   ]
  },
  {
   "cell_type": "code",
   "execution_count": 35,
   "id": "c2f06ceb",
   "metadata": {},
   "outputs": [
    {
     "data": {
      "text/plain": [
       "0      2.110213\n",
       "1      4.280593\n",
       "2      2.188856\n",
       "3      3.990834\n",
       "4      2.202765\n",
       "         ...   \n",
       "886    2.639057\n",
       "887    3.433987\n",
       "888    3.196630\n",
       "889    3.433987\n",
       "890    2.169054\n",
       "Name: fare, Length: 891, dtype: float64"
      ]
     },
     "execution_count": 35,
     "metadata": {},
     "output_type": "execute_result"
    }
   ],
   "source": [
    "fare_t=f.fit_transform(df[\"fare\"])\n",
    "fare_t"
   ]
  },
  {
   "cell_type": "code",
   "execution_count": 36,
   "id": "5e2e6378",
   "metadata": {},
   "outputs": [],
   "source": [
    "## now checking"
   ]
  },
  {
   "cell_type": "code",
   "execution_count": 37,
   "id": "dc806e35",
   "metadata": {},
   "outputs": [
    {
     "data": {
      "image/png": "[encoded data removed]",
      "text/plain": [
       "<Figure size 432x288 with 1 Axes>"
      ]
     },
     "metadata": {
      "needs_background": "light"
     },
     "output_type": "display_data"
    }
   ],
   "source": [
    "st.probplot(fare_t,dist=\"norm\",plot=pylab);"
   ]
  },
  {
   "cell_type": "code",
   "execution_count": 38,
   "id": "8b91ce11",
   "metadata": {},
   "outputs": [
    {
     "data": {
      "text/plain": [
       "0.39426283638993376"
      ]
     },
     "execution_count": 38,
     "metadata": {},
     "output_type": "execute_result"
    }
   ],
   "source": [
    "st.skew(fare_t)"
   ]
  },
  {
   "cell_type": "markdown",
   "id": "0514efb2",
   "metadata": {},
   "source": [
    "- now we can see our data is in acceptable range"
   ]
  },
  {
   "cell_type": "code",
   "execution_count": 39,
   "id": "52df6649",
   "metadata": {},
   "outputs": [
    {
     "data": {
      "text/html": [
       "<div>\n",
       "<style scoped>\n",
       "    .dataframe tbody tr th:only-of-type {\n",
       "        vertical-align: middle;\n",
       "    }\n",
       "\n",
       "    .dataframe tbody tr th {\n",
       "        vertical-align: top;\n",
       "    }\n",
       "\n",
       "    .dataframe thead th {\n",
       "        text-align: right;\n",
       "    }\n",
       "</style>\n",
       "<table border=\"1\" class=\"dataframe\">\n",
       "  <thead>\n",
       "    <tr style=\"text-align: right;\">\n",
       "      <th></th>\n",
       "      <th>weight</th>\n",
       "      <th>height</th>\n",
       "    </tr>\n",
       "  </thead>\n",
       "  <tbody>\n",
       "    <tr>\n",
       "      <th>0</th>\n",
       "      <td>12</td>\n",
       "      <td>123</td>\n",
       "    </tr>\n",
       "    <tr>\n",
       "      <th>1</th>\n",
       "      <td>10</td>\n",
       "      <td>100</td>\n",
       "    </tr>\n",
       "    <tr>\n",
       "      <th>2</th>\n",
       "      <td>15</td>\n",
       "      <td>155</td>\n",
       "    </tr>\n",
       "    <tr>\n",
       "      <th>3</th>\n",
       "      <td>16</td>\n",
       "      <td>160</td>\n",
       "    </tr>\n",
       "    <tr>\n",
       "      <th>4</th>\n",
       "      <td>34</td>\n",
       "      <td>134</td>\n",
       "    </tr>\n",
       "    <tr>\n",
       "      <th>5</th>\n",
       "      <td>56</td>\n",
       "      <td>156</td>\n",
       "    </tr>\n",
       "    <tr>\n",
       "      <th>6</th>\n",
       "      <td>26</td>\n",
       "      <td>126</td>\n",
       "    </tr>\n",
       "    <tr>\n",
       "      <th>7</th>\n",
       "      <td>78</td>\n",
       "      <td>178</td>\n",
       "    </tr>\n",
       "    <tr>\n",
       "      <th>8</th>\n",
       "      <td>68</td>\n",
       "      <td>168</td>\n",
       "    </tr>\n",
       "    <tr>\n",
       "      <th>9</th>\n",
       "      <td>12</td>\n",
       "      <td>180</td>\n",
       "    </tr>\n",
       "    <tr>\n",
       "      <th>10</th>\n",
       "      <td>50</td>\n",
       "      <td>150</td>\n",
       "    </tr>\n",
       "    <tr>\n",
       "      <th>11</th>\n",
       "      <td>76</td>\n",
       "      <td>176</td>\n",
       "    </tr>\n",
       "    <tr>\n",
       "      <th>12</th>\n",
       "      <td>45</td>\n",
       "      <td>120</td>\n",
       "    </tr>\n",
       "  </tbody>\n",
       "</table>\n",
       "</div>"
      ],
      "text/plain": [
       "    weight  height\n",
       "0       12     123\n",
       "1       10     100\n",
       "2       15     155\n",
       "3       16     160\n",
       "4       34     134\n",
       "5       56     156\n",
       "6       26     126\n",
       "7       78     178\n",
       "8       68     168\n",
       "9       12     180\n",
       "10      50     150\n",
       "11      76     176\n",
       "12      45     120"
      ]
     },
     "execution_count": 39,
     "metadata": {},
     "output_type": "execute_result"
    }
   ],
   "source": [
    "df=pd.DataFrame({\"weight\":[12,10,15,16,34,56,26,78,68,12,50,76,45],\"height\":[123,100,155,160,134,156,126,178,168,180,150,176,120]})\n",
    "df\n",
    " \n"
   ]
  },
  {
   "cell_type": "code",
   "execution_count": 40,
   "id": "7a8cf238",
   "metadata": {},
   "outputs": [
    {
     "data": {
      "image/png": "[encoded data removed]",
      "text/plain": [
       "<Figure size 432x288 with 1 Axes>"
      ]
     },
     "metadata": {
      "needs_background": "light"
     },
     "output_type": "display_data"
    }
   ],
   "source": [
    "st.probplot(df[\"weight\"],dist=\"norm\",plot=pylab);\n"
   ]
  },
  {
   "cell_type": "code",
   "execution_count": 41,
   "id": "48d5086f",
   "metadata": {},
   "outputs": [
    {
     "data": {
      "image/png": "[encoded data removed]",
      "text/plain": [
       "<Figure size 432x288 with 1 Axes>"
      ]
     },
     "metadata": {
      "needs_background": "light"
     },
     "output_type": "display_data"
    }
   ],
   "source": [
    "st.probplot(df[\"height\"],dist=\"norm\",plot=pylab);"
   ]
  },
  {
   "cell_type": "code",
   "execution_count": 42,
   "id": "8c62d02b",
   "metadata": {},
   "outputs": [
    {
     "data": {
      "image/png": "[encoded data removed]",
      "text/plain": [
       "<Figure size 432x288 with 2 Axes>"
      ]
     },
     "metadata": {
      "needs_background": "light"
     },
     "output_type": "display_data"
    }
   ],
   "source": [
    "index=1\n",
    "for i in df.columns:\n",
    "    plt.subplot(1,2,index)\n",
    "    st.probplot(df[i],dist=\"norm\",plot=pylab)\n",
    "    plt.title(i)\n",
    "    index=index+1"
   ]
  },
  {
   "cell_type": "code",
   "execution_count": 43,
   "id": "a0a92036",
   "metadata": {},
   "outputs": [
    {
     "data": {
      "text/plain": [
       "0.3879780248754408"
      ]
     },
     "execution_count": 43,
     "metadata": {},
     "output_type": "execute_result"
    }
   ],
   "source": [
    "df[\"weight\"].skew()"
   ]
  },
  {
   "cell_type": "code",
   "execution_count": 44,
   "id": "38ebb1bd",
   "metadata": {},
   "outputs": [
    {
     "data": {
      "text/plain": [
       "-0.3840267407133467"
      ]
     },
     "execution_count": 44,
     "metadata": {},
     "output_type": "execute_result"
    }
   ],
   "source": [
    "st.skew(df[\"height\"])"
   ]
  },
  {
   "cell_type": "code",
   "execution_count": 45,
   "id": "4382af60",
   "metadata": {},
   "outputs": [
    {
     "name": "stdout",
     "output_type": "stream",
     "text": [
      "weight --- 0.3879780248754408\n",
      "height --- -0.4360447685611474\n"
     ]
    }
   ],
   "source": [
    "for i in df.columns:\n",
    "    print(i,\"---\",df[i].skew())"
   ]
  },
  {
   "cell_type": "markdown",
   "id": "d21afde8",
   "metadata": {},
   "source": [
    "- **box-cox** transformation"
   ]
  },
  {
   "cell_type": "code",
   "execution_count": 46,
   "id": "5ff89d51",
   "metadata": {},
   "outputs": [],
   "source": [
    "from sklearn.preprocessing import PowerTransformer "
   ]
  },
  {
   "cell_type": "code",
   "execution_count": 47,
   "id": "65f031bc",
   "metadata": {},
   "outputs": [
    {
     "name": "stdout",
     "output_type": "stream",
     "text": [
      "[[-1.21732037 -1.05620653]\n",
      " [-1.42778272 -1.76673516]\n",
      " [-0.95095624  0.20311513]\n",
      " [-0.87206859  0.42876428]\n",
      " [ 0.11436277 -0.65916189]\n",
      " [ 0.83831087  0.24761598]\n",
      " [-0.25086416 -0.95161982]\n",
      " [ 1.35310366  1.30648976]\n",
      " [ 1.13652554  0.80619655]\n",
      " [-1.21732037  1.41036327]\n",
      " [ 0.66861387 -0.01468167]\n",
      " [ 1.31172256  1.20388976]\n",
      " [ 0.5136732  -1.15802967]]\n"
     ]
    }
   ],
   "source": [
    "pt=PowerTransformer(method=\"box-cox\")## default method=\"yeo-johnson\"\n",
    "tt=pt.fit_transform(df)\n",
    "print(tt)"
   ]
  },
  {
   "cell_type": "code",
   "execution_count": 48,
   "id": "b3d93dc7",
   "metadata": {},
   "outputs": [
    {
     "data": {
      "text/html": [
       "<div>\n",
       "<style scoped>\n",
       "    .dataframe tbody tr th:only-of-type {\n",
       "        vertical-align: middle;\n",
       "    }\n",
       "\n",
       "    .dataframe tbody tr th {\n",
       "        vertical-align: top;\n",
       "    }\n",
       "\n",
       "    .dataframe thead th {\n",
       "        text-align: right;\n",
       "    }\n",
       "</style>\n",
       "<table border=\"1\" class=\"dataframe\">\n",
       "  <thead>\n",
       "    <tr style=\"text-align: right;\">\n",
       "      <th></th>\n",
       "      <th>weight_transform</th>\n",
       "      <th>height_transform</th>\n",
       "    </tr>\n",
       "  </thead>\n",
       "  <tbody>\n",
       "    <tr>\n",
       "      <th>0</th>\n",
       "      <td>-1.217320</td>\n",
       "      <td>-1.056207</td>\n",
       "    </tr>\n",
       "    <tr>\n",
       "      <th>1</th>\n",
       "      <td>-1.427783</td>\n",
       "      <td>-1.766735</td>\n",
       "    </tr>\n",
       "    <tr>\n",
       "      <th>2</th>\n",
       "      <td>-0.950956</td>\n",
       "      <td>0.203115</td>\n",
       "    </tr>\n",
       "    <tr>\n",
       "      <th>3</th>\n",
       "      <td>-0.872069</td>\n",
       "      <td>0.428764</td>\n",
       "    </tr>\n",
       "    <tr>\n",
       "      <th>4</th>\n",
       "      <td>0.114363</td>\n",
       "      <td>-0.659162</td>\n",
       "    </tr>\n",
       "    <tr>\n",
       "      <th>5</th>\n",
       "      <td>0.838311</td>\n",
       "      <td>0.247616</td>\n",
       "    </tr>\n",
       "    <tr>\n",
       "      <th>6</th>\n",
       "      <td>-0.250864</td>\n",
       "      <td>-0.951620</td>\n",
       "    </tr>\n",
       "    <tr>\n",
       "      <th>7</th>\n",
       "      <td>1.353104</td>\n",
       "      <td>1.306490</td>\n",
       "    </tr>\n",
       "    <tr>\n",
       "      <th>8</th>\n",
       "      <td>1.136526</td>\n",
       "      <td>0.806197</td>\n",
       "    </tr>\n",
       "    <tr>\n",
       "      <th>9</th>\n",
       "      <td>-1.217320</td>\n",
       "      <td>1.410363</td>\n",
       "    </tr>\n",
       "    <tr>\n",
       "      <th>10</th>\n",
       "      <td>0.668614</td>\n",
       "      <td>-0.014682</td>\n",
       "    </tr>\n",
       "    <tr>\n",
       "      <th>11</th>\n",
       "      <td>1.311723</td>\n",
       "      <td>1.203890</td>\n",
       "    </tr>\n",
       "    <tr>\n",
       "      <th>12</th>\n",
       "      <td>0.513673</td>\n",
       "      <td>-1.158030</td>\n",
       "    </tr>\n",
       "  </tbody>\n",
       "</table>\n",
       "</div>"
      ],
      "text/plain": [
       "    weight_transform  height_transform\n",
       "0          -1.217320         -1.056207\n",
       "1          -1.427783         -1.766735\n",
       "2          -0.950956          0.203115\n",
       "3          -0.872069          0.428764\n",
       "4           0.114363         -0.659162\n",
       "5           0.838311          0.247616\n",
       "6          -0.250864         -0.951620\n",
       "7           1.353104          1.306490\n",
       "8           1.136526          0.806197\n",
       "9          -1.217320          1.410363\n",
       "10          0.668614         -0.014682\n",
       "11          1.311723          1.203890\n",
       "12          0.513673         -1.158030"
      ]
     },
     "execution_count": 48,
     "metadata": {},
     "output_type": "execute_result"
    }
   ],
   "source": [
    "df1=pd.DataFrame(tt,columns=[\"weight_transform\",\"height_transform\"])\n",
    "df1"
   ]
  },
  {
   "cell_type": "code",
   "execution_count": 49,
   "id": "b53dcacf",
   "metadata": {},
   "outputs": [
    {
     "name": "stdout",
     "output_type": "stream",
     "text": [
      "weight_transform --- -0.07248975464725532\n",
      "height_transform --- -0.1735776482534124\n"
     ]
    }
   ],
   "source": [
    "for i in df1.columns:\n",
    "    print(i,\"---\",df1[i].skew())"
   ]
  },
  {
   "cell_type": "code",
   "execution_count": 50,
   "id": "010c2b2c",
   "metadata": {},
   "outputs": [
    {
     "data": {
      "text/html": [
       "<div>\n",
       "<style scoped>\n",
       "    .dataframe tbody tr th:only-of-type {\n",
       "        vertical-align: middle;\n",
       "    }\n",
       "\n",
       "    .dataframe tbody tr th {\n",
       "        vertical-align: top;\n",
       "    }\n",
       "\n",
       "    .dataframe thead th {\n",
       "        text-align: right;\n",
       "    }\n",
       "</style>\n",
       "<table border=\"1\" class=\"dataframe\">\n",
       "  <thead>\n",
       "    <tr style=\"text-align: right;\">\n",
       "      <th></th>\n",
       "      <th>weight</th>\n",
       "      <th>height</th>\n",
       "    </tr>\n",
       "  </thead>\n",
       "  <tbody>\n",
       "    <tr>\n",
       "      <th>0</th>\n",
       "      <td>0</td>\n",
       "      <td>123</td>\n",
       "    </tr>\n",
       "    <tr>\n",
       "      <th>1</th>\n",
       "      <td>10</td>\n",
       "      <td>100</td>\n",
       "    </tr>\n",
       "    <tr>\n",
       "      <th>2</th>\n",
       "      <td>-1</td>\n",
       "      <td>155</td>\n",
       "    </tr>\n",
       "    <tr>\n",
       "      <th>3</th>\n",
       "      <td>16</td>\n",
       "      <td>160</td>\n",
       "    </tr>\n",
       "    <tr>\n",
       "      <th>4</th>\n",
       "      <td>34</td>\n",
       "      <td>134</td>\n",
       "    </tr>\n",
       "    <tr>\n",
       "      <th>5</th>\n",
       "      <td>56</td>\n",
       "      <td>156</td>\n",
       "    </tr>\n",
       "    <tr>\n",
       "      <th>6</th>\n",
       "      <td>26</td>\n",
       "      <td>126</td>\n",
       "    </tr>\n",
       "    <tr>\n",
       "      <th>7</th>\n",
       "      <td>78</td>\n",
       "      <td>178</td>\n",
       "    </tr>\n",
       "    <tr>\n",
       "      <th>8</th>\n",
       "      <td>68</td>\n",
       "      <td>168</td>\n",
       "    </tr>\n",
       "    <tr>\n",
       "      <th>9</th>\n",
       "      <td>12</td>\n",
       "      <td>180</td>\n",
       "    </tr>\n",
       "    <tr>\n",
       "      <th>10</th>\n",
       "      <td>50</td>\n",
       "      <td>150</td>\n",
       "    </tr>\n",
       "    <tr>\n",
       "      <th>11</th>\n",
       "      <td>76</td>\n",
       "      <td>176</td>\n",
       "    </tr>\n",
       "    <tr>\n",
       "      <th>12</th>\n",
       "      <td>45</td>\n",
       "      <td>120</td>\n",
       "    </tr>\n",
       "  </tbody>\n",
       "</table>\n",
       "</div>"
      ],
      "text/plain": [
       "    weight  height\n",
       "0        0     123\n",
       "1       10     100\n",
       "2       -1     155\n",
       "3       16     160\n",
       "4       34     134\n",
       "5       56     156\n",
       "6       26     126\n",
       "7       78     178\n",
       "8       68     168\n",
       "9       12     180\n",
       "10      50     150\n",
       "11      76     176\n",
       "12      45     120"
      ]
     },
     "execution_count": 50,
     "metadata": {},
     "output_type": "execute_result"
    }
   ],
   "source": [
    "df=pd.DataFrame({\"weight\":[0,10,-1,16,34,56,26,78,68,12,50,76,45],\"height\":[123,100,155,160,134,156,126,178,168,180,150,176,120]})\n",
    "df\n",
    " \n"
   ]
  },
  {
   "cell_type": "code",
   "execution_count": 51,
   "id": "892df5c6",
   "metadata": {},
   "outputs": [
    {
     "ename": "ValueError",
     "evalue": "The Box-Cox transformation can only be applied to strictly positive data",
     "output_type": "error",
     "traceback": [
      "\u001b[1;31m---------------------------------------------------------------------------\u001b[0m",
      "\u001b[1;31mValueError\u001b[0m                                Traceback (most recent call last)",
      "Input \u001b[1;32mIn [51]\u001b[0m, in \u001b[0;36m<cell line: 2>\u001b[1;34m()\u001b[0m\n\u001b[0;32m      1\u001b[0m pt\u001b[38;5;241m=\u001b[39mPowerTransformer(method\u001b[38;5;241m=\u001b[39m\u001b[38;5;124m\"\u001b[39m\u001b[38;5;124mbox-cox\u001b[39m\u001b[38;5;124m\"\u001b[39m)\u001b[38;5;66;03m## default method=\"yeo-johnson\"\u001b[39;00m\n\u001b[1;32m----> 2\u001b[0m tt1\u001b[38;5;241m=\u001b[39m\u001b[43mpt\u001b[49m\u001b[38;5;241;43m.\u001b[39;49m\u001b[43mfit_transform\u001b[49m\u001b[43m(\u001b[49m\u001b[43mdf\u001b[49m\u001b[43m)\u001b[49m\n\u001b[0;32m      3\u001b[0m \u001b[38;5;28mprint\u001b[39m(tt1)\n",
      "File \u001b[1;32m~\\anaconda3\\lib\\site-packages\\sklearn\\preprocessing\\_data.py:3065\u001b[0m, in \u001b[0;36mPowerTransformer.fit_transform\u001b[1;34m(self, X, y)\u001b[0m\n\u001b[0;32m   3048\u001b[0m \u001b[38;5;28;01mdef\u001b[39;00m \u001b[38;5;21mfit_transform\u001b[39m(\u001b[38;5;28mself\u001b[39m, X, y\u001b[38;5;241m=\u001b[39m\u001b[38;5;28;01mNone\u001b[39;00m):\n\u001b[0;32m   3049\u001b[0m     \u001b[38;5;124;03m\"\"\"Fit `PowerTransformer` to `X`, then transform `X`.\u001b[39;00m\n\u001b[0;32m   3050\u001b[0m \n\u001b[0;32m   3051\u001b[0m \u001b[38;5;124;03m    Parameters\u001b[39;00m\n\u001b[1;32m   (...)\u001b[0m\n\u001b[0;32m   3063\u001b[0m \u001b[38;5;124;03m        Transformed data.\u001b[39;00m\n\u001b[0;32m   3064\u001b[0m \u001b[38;5;124;03m    \"\"\"\u001b[39;00m\n\u001b[1;32m-> 3065\u001b[0m     \u001b[38;5;28;01mreturn\u001b[39;00m \u001b[38;5;28;43mself\u001b[39;49m\u001b[38;5;241;43m.\u001b[39;49m\u001b[43m_fit\u001b[49m\u001b[43m(\u001b[49m\u001b[43mX\u001b[49m\u001b[43m,\u001b[49m\u001b[43m \u001b[49m\u001b[43my\u001b[49m\u001b[43m,\u001b[49m\u001b[43m \u001b[49m\u001b[43mforce_transform\u001b[49m\u001b[38;5;241;43m=\u001b[39;49m\u001b[38;5;28;43;01mTrue\u001b[39;49;00m\u001b[43m)\u001b[49m\n",
      "File \u001b[1;32m~\\anaconda3\\lib\\site-packages\\sklearn\\preprocessing\\_data.py:3068\u001b[0m, in \u001b[0;36mPowerTransformer._fit\u001b[1;34m(self, X, y, force_transform)\u001b[0m\n\u001b[0;32m   3067\u001b[0m \u001b[38;5;28;01mdef\u001b[39;00m \u001b[38;5;21m_fit\u001b[39m(\u001b[38;5;28mself\u001b[39m, X, y\u001b[38;5;241m=\u001b[39m\u001b[38;5;28;01mNone\u001b[39;00m, force_transform\u001b[38;5;241m=\u001b[39m\u001b[38;5;28;01mFalse\u001b[39;00m):\n\u001b[1;32m-> 3068\u001b[0m     X \u001b[38;5;241m=\u001b[39m \u001b[38;5;28;43mself\u001b[39;49m\u001b[38;5;241;43m.\u001b[39;49m\u001b[43m_check_input\u001b[49m\u001b[43m(\u001b[49m\u001b[43mX\u001b[49m\u001b[43m,\u001b[49m\u001b[43m \u001b[49m\u001b[43min_fit\u001b[49m\u001b[38;5;241;43m=\u001b[39;49m\u001b[38;5;28;43;01mTrue\u001b[39;49;00m\u001b[43m,\u001b[49m\u001b[43m \u001b[49m\u001b[43mcheck_positive\u001b[49m\u001b[38;5;241;43m=\u001b[39;49m\u001b[38;5;28;43;01mTrue\u001b[39;49;00m\u001b[43m,\u001b[49m\u001b[43m \u001b[49m\u001b[43mcheck_method\u001b[49m\u001b[38;5;241;43m=\u001b[39;49m\u001b[38;5;28;43;01mTrue\u001b[39;49;00m\u001b[43m)\u001b[49m\n\u001b[0;32m   3070\u001b[0m     \u001b[38;5;28;01mif\u001b[39;00m \u001b[38;5;129;01mnot\u001b[39;00m \u001b[38;5;28mself\u001b[39m\u001b[38;5;241m.\u001b[39mcopy \u001b[38;5;129;01mand\u001b[39;00m \u001b[38;5;129;01mnot\u001b[39;00m force_transform:  \u001b[38;5;66;03m# if call from fit()\u001b[39;00m\n\u001b[0;32m   3071\u001b[0m         X \u001b[38;5;241m=\u001b[39m X\u001b[38;5;241m.\u001b[39mcopy()  \u001b[38;5;66;03m# force copy so that fit does not change X inplace\u001b[39;00m\n",
      "File \u001b[1;32m~\\anaconda3\\lib\\site-packages\\sklearn\\preprocessing\\_data.py:3299\u001b[0m, in \u001b[0;36mPowerTransformer._check_input\u001b[1;34m(self, X, in_fit, check_positive, check_shape, check_method)\u001b[0m\n\u001b[0;32m   3297\u001b[0m     np\u001b[38;5;241m.\u001b[39mwarnings\u001b[38;5;241m.\u001b[39mfilterwarnings(\u001b[38;5;124m\"\u001b[39m\u001b[38;5;124mignore\u001b[39m\u001b[38;5;124m\"\u001b[39m, \u001b[38;5;124mr\u001b[39m\u001b[38;5;124m\"\u001b[39m\u001b[38;5;124mAll-NaN (slice|axis) encountered\u001b[39m\u001b[38;5;124m\"\u001b[39m)\n\u001b[0;32m   3298\u001b[0m     \u001b[38;5;28;01mif\u001b[39;00m check_positive \u001b[38;5;129;01mand\u001b[39;00m \u001b[38;5;28mself\u001b[39m\u001b[38;5;241m.\u001b[39mmethod \u001b[38;5;241m==\u001b[39m \u001b[38;5;124m\"\u001b[39m\u001b[38;5;124mbox-cox\u001b[39m\u001b[38;5;124m\"\u001b[39m \u001b[38;5;129;01mand\u001b[39;00m np\u001b[38;5;241m.\u001b[39mnanmin(X) \u001b[38;5;241m<\u001b[39m\u001b[38;5;241m=\u001b[39m \u001b[38;5;241m0\u001b[39m:\n\u001b[1;32m-> 3299\u001b[0m         \u001b[38;5;28;01mraise\u001b[39;00m \u001b[38;5;167;01mValueError\u001b[39;00m(\n\u001b[0;32m   3300\u001b[0m             \u001b[38;5;124m\"\u001b[39m\u001b[38;5;124mThe Box-Cox transformation can only be \u001b[39m\u001b[38;5;124m\"\u001b[39m\n\u001b[0;32m   3301\u001b[0m             \u001b[38;5;124m\"\u001b[39m\u001b[38;5;124mapplied to strictly positive data\u001b[39m\u001b[38;5;124m\"\u001b[39m\n\u001b[0;32m   3302\u001b[0m         )\n\u001b[0;32m   3304\u001b[0m \u001b[38;5;28;01mif\u001b[39;00m check_shape \u001b[38;5;129;01mand\u001b[39;00m \u001b[38;5;129;01mnot\u001b[39;00m X\u001b[38;5;241m.\u001b[39mshape[\u001b[38;5;241m1\u001b[39m] \u001b[38;5;241m==\u001b[39m \u001b[38;5;28mlen\u001b[39m(\u001b[38;5;28mself\u001b[39m\u001b[38;5;241m.\u001b[39mlambdas_):\n\u001b[0;32m   3305\u001b[0m     \u001b[38;5;28;01mraise\u001b[39;00m \u001b[38;5;167;01mValueError\u001b[39;00m(\n\u001b[0;32m   3306\u001b[0m         \u001b[38;5;124m\"\u001b[39m\u001b[38;5;124mInput data has a different number of features \u001b[39m\u001b[38;5;124m\"\u001b[39m\n\u001b[0;32m   3307\u001b[0m         \u001b[38;5;124m\"\u001b[39m\u001b[38;5;124mthan fitting data. Should have \u001b[39m\u001b[38;5;132;01m{n}\u001b[39;00m\u001b[38;5;124m, data has \u001b[39m\u001b[38;5;132;01m{m}\u001b[39;00m\u001b[38;5;124m\"\u001b[39m\u001b[38;5;241m.\u001b[39mformat(\n\u001b[0;32m   3308\u001b[0m             n\u001b[38;5;241m=\u001b[39m\u001b[38;5;28mlen\u001b[39m(\u001b[38;5;28mself\u001b[39m\u001b[38;5;241m.\u001b[39mlambdas_), m\u001b[38;5;241m=\u001b[39mX\u001b[38;5;241m.\u001b[39mshape[\u001b[38;5;241m1\u001b[39m]\n\u001b[0;32m   3309\u001b[0m         )\n\u001b[0;32m   3310\u001b[0m     )\n",
      "\u001b[1;31mValueError\u001b[0m: The Box-Cox transformation can only be applied to strictly positive data"
     ]
    }
   ],
   "source": [
    "pt=PowerTransformer(method=\"box-cox\")## default method=\"yeo-johnson\"\n",
    "tt1=pt.fit_transform(df)\n",
    "print(tt1)"
   ]
  },
  {
   "cell_type": "markdown",
   "id": "b08944e1",
   "metadata": {},
   "source": [
    "- The Box-Cox transformation can only be applied to strictly positive data\n"
   ]
  },
  {
   "cell_type": "markdown",
   "id": "24d296ab",
   "metadata": {},
   "source": [
    "- **Yeo Johnson** Transformation"
   ]
  },
  {
   "cell_type": "code",
   "execution_count": 52,
   "id": "07ee5a62",
   "metadata": {},
   "outputs": [
    {
     "name": "stdout",
     "output_type": "stream",
     "text": [
      "[[-1.60934489 -1.05619279]\n",
      " [-0.83065935 -1.76644342]\n",
      " [-1.79160331  0.20293709]\n",
      " [-0.53866185  0.42861634]\n",
      " [ 0.13529655 -0.65926863]\n",
      " [ 0.77281523  0.24744223]\n",
      " [-0.13895017 -0.95164213]\n",
      " [ 1.30846805  1.30665815]\n",
      " [ 1.07435498  0.80614584]\n",
      " [-0.72697872  1.41058993]\n",
      " [ 0.61164413 -0.01486908]\n",
      " [ 1.26273104  1.20400489]\n",
      " [ 0.47088833 -1.15797842]]\n"
     ]
    }
   ],
   "source": [
    "pt=PowerTransformer()## default method=\"yeo-johnson\"\n",
    "tt2=pt.fit_transform(df)\n",
    "print(tt2)"
   ]
  },
  {
   "cell_type": "code",
   "execution_count": 53,
   "id": "fd31d76a",
   "metadata": {},
   "outputs": [
    {
     "data": {
      "text/html": [
       "<div>\n",
       "<style scoped>\n",
       "    .dataframe tbody tr th:only-of-type {\n",
       "        vertical-align: middle;\n",
       "    }\n",
       "\n",
       "    .dataframe tbody tr th {\n",
       "        vertical-align: top;\n",
       "    }\n",
       "\n",
       "    .dataframe thead th {\n",
       "        text-align: right;\n",
       "    }\n",
       "</style>\n",
       "<table border=\"1\" class=\"dataframe\">\n",
       "  <thead>\n",
       "    <tr style=\"text-align: right;\">\n",
       "      <th></th>\n",
       "      <th>weight_transform</th>\n",
       "      <th>height_transform</th>\n",
       "    </tr>\n",
       "  </thead>\n",
       "  <tbody>\n",
       "    <tr>\n",
       "      <th>0</th>\n",
       "      <td>-1.609345</td>\n",
       "      <td>-1.056193</td>\n",
       "    </tr>\n",
       "    <tr>\n",
       "      <th>1</th>\n",
       "      <td>-0.830659</td>\n",
       "      <td>-1.766443</td>\n",
       "    </tr>\n",
       "    <tr>\n",
       "      <th>2</th>\n",
       "      <td>-1.791603</td>\n",
       "      <td>0.202937</td>\n",
       "    </tr>\n",
       "    <tr>\n",
       "      <th>3</th>\n",
       "      <td>-0.538662</td>\n",
       "      <td>0.428616</td>\n",
       "    </tr>\n",
       "    <tr>\n",
       "      <th>4</th>\n",
       "      <td>0.135297</td>\n",
       "      <td>-0.659269</td>\n",
       "    </tr>\n",
       "    <tr>\n",
       "      <th>5</th>\n",
       "      <td>0.772815</td>\n",
       "      <td>0.247442</td>\n",
       "    </tr>\n",
       "    <tr>\n",
       "      <th>6</th>\n",
       "      <td>-0.138950</td>\n",
       "      <td>-0.951642</td>\n",
       "    </tr>\n",
       "    <tr>\n",
       "      <th>7</th>\n",
       "      <td>1.308468</td>\n",
       "      <td>1.306658</td>\n",
       "    </tr>\n",
       "    <tr>\n",
       "      <th>8</th>\n",
       "      <td>1.074355</td>\n",
       "      <td>0.806146</td>\n",
       "    </tr>\n",
       "    <tr>\n",
       "      <th>9</th>\n",
       "      <td>-0.726979</td>\n",
       "      <td>1.410590</td>\n",
       "    </tr>\n",
       "    <tr>\n",
       "      <th>10</th>\n",
       "      <td>0.611644</td>\n",
       "      <td>-0.014869</td>\n",
       "    </tr>\n",
       "    <tr>\n",
       "      <th>11</th>\n",
       "      <td>1.262731</td>\n",
       "      <td>1.204005</td>\n",
       "    </tr>\n",
       "    <tr>\n",
       "      <th>12</th>\n",
       "      <td>0.470888</td>\n",
       "      <td>-1.157978</td>\n",
       "    </tr>\n",
       "  </tbody>\n",
       "</table>\n",
       "</div>"
      ],
      "text/plain": [
       "    weight_transform  height_transform\n",
       "0          -1.609345         -1.056193\n",
       "1          -0.830659         -1.766443\n",
       "2          -1.791603          0.202937\n",
       "3          -0.538662          0.428616\n",
       "4           0.135297         -0.659269\n",
       "5           0.772815          0.247442\n",
       "6          -0.138950         -0.951642\n",
       "7           1.308468          1.306658\n",
       "8           1.074355          0.806146\n",
       "9          -0.726979          1.410590\n",
       "10          0.611644         -0.014869\n",
       "11          1.262731          1.204005\n",
       "12          0.470888         -1.157978"
      ]
     },
     "execution_count": 53,
     "metadata": {},
     "output_type": "execute_result"
    }
   ],
   "source": [
    "df2=pd.DataFrame(tt2,columns=[\"weight_transform\",\"height_transform\"])\n",
    "df2"
   ]
  },
  {
   "cell_type": "markdown",
   "id": "a6c860c5",
   "metadata": {},
   "source": [
    "## Standard Normal Deviation"
   ]
  },
  {
   "cell_type": "code",
   "execution_count": 54,
   "id": "3164cb44",
   "metadata": {},
   "outputs": [],
   "source": [
    "a=np.random.normal(loc=60,scale=10,size=10000)"
   ]
  },
  {
   "cell_type": "code",
   "execution_count": 55,
   "id": "c05b937f",
   "metadata": {},
   "outputs": [
    {
     "data": {
      "image/png": "[encoded data removed]",
      "text/plain": [
       "<Figure size 432x288 with 1 Axes>"
      ]
     },
     "metadata": {
      "needs_background": "light"
     },
     "output_type": "display_data"
    }
   ],
   "source": [
    "sns.distplot(a);"
   ]
  },
  {
   "cell_type": "code",
   "execution_count": 56,
   "id": "25a33c31",
   "metadata": {},
   "outputs": [
    {
     "data": {
      "image/png": "[encoded data removed]",
      "text/plain": [
       "<Figure size 432x288 with 1 Axes>"
      ]
     },
     "metadata": {
      "needs_background": "light"
     },
     "output_type": "display_data"
    }
   ],
   "source": [
    "st.probplot(a,dist=\"norm\",plot=pylab);"
   ]
  },
  {
   "cell_type": "markdown",
   "id": "60d7e5de",
   "metadata": {},
   "source": [
    "### Manuualy Zscores formula to convert ND to SND \n"
   ]
  },
  {
   "cell_type": "code",
   "execution_count": 57,
   "id": "95daa8e9",
   "metadata": {},
   "outputs": [],
   "source": [
    "l=[]\n",
    "for i in a:\n",
    "    z=(i-60)/10\n",
    "    l.append(z)"
   ]
  },
  {
   "cell_type": "code",
   "execution_count": 58,
   "id": "3544533c",
   "metadata": {},
   "outputs": [
    {
     "data": {
      "text/plain": [
       "[0.39443667906012647,\n",
       " 0.22732929427109383,\n",
       " 1.471276696893034,\n",
       " -0.742818779672038,\n",
       " -0.07463775224107394,\n",
       " 1.616113720931348,\n",
       " -0.827670014865916,\n",
       " 0.6993786049838079,\n",
       " 0.1549412402617662,\n",
       " -0.31412065614276585,\n",
       " -0.13111202259986426,\n",
       " 0.6421674594863476,\n",
       " -0.6336034851154814,\n",
       " -0.9803425632560412,\n",
       " 0.9083350047158987,\n",
       " 0.6779411163147785,\n",
       " 1.7114867102938092,\n",
       " -0.3801524490912193,\n",
       " -0.2386124258098576,\n",
       " 1.1114667479525608,\n",
       " -0.7035310183661636,\n",
       " -1.0242993936482692,\n",
       " -0.08108961888950575,\n",
       " 0.21836946942078866,\n",
       " 1.2711302229570465,\n",
       " 0.9369340701150037,\n",
       " 1.701656462042564,\n",
       " 0.20551749112586606,\n",
       " 0.42618411925903243,\n",
       " 0.09243382630924443,\n",
       " 1.1647216294362082,\n",
       " -0.1770546391092182,\n",
       " 0.998745877293905,\n",
       " -0.10918107938439334,\n",
       " 2.580643182354352,\n",
       " 1.5877008820428742,\n",
       " -0.1868821344977853,\n",
       " 0.8679030360812376,\n",
       " 2.0299605715777758,\n",
       " -0.45688454532327044,\n",
       " -0.9407165249631788,\n",
       " 1.9065419015082412,\n",
       " -0.7791068174558411,\n",
       " -0.16944799811905398,\n",
       " -0.28012185486353475,\n",
       " 1.9922432776040495,\n",
       " -1.2748963646043159,\n",
       " -0.8970728690699801,\n",
       " 0.6813804376006303,\n",
       " 1.2816242218062697,\n",
       " -0.5709185353390069,\n",
       " 1.9356459751356112,\n",
       " -0.5213820379911361,\n",
       " -0.008491983086819487,\n",
       " 0.7934410179850729,\n",
       " 0.4219592909558685,\n",
       " -0.15811349646533443,\n",
       " -1.5508831122849016,\n",
       " -0.8206420868902455,\n",
       " -0.4615873007858283,\n",
       " 0.568669070637938,\n",
       " -0.05548554145060223,\n",
       " -0.03602587735262688,\n",
       " 1.1966893583000797,\n",
       " -1.0632007169911546,\n",
       " -0.7146907159905609,\n",
       " -1.7769168668659048,\n",
       " 1.337138122358094,\n",
       " 1.4473703088463394,\n",
       " 0.30231652956824606,\n",
       " 0.7897777685127153,\n",
       " -1.4674571455224465,\n",
       " -0.7357468618068339,\n",
       " -0.9946935123789225,\n",
       " -0.5738917506175604,\n",
       " 0.2882625121269157,\n",
       " -0.7556023257715069,\n",
       " 0.5511824711708172,\n",
       " 0.947558879473992,\n",
       " 0.3174246851805812,\n",
       " -0.42764005607006367,\n",
       " -1.0362691495719525,\n",
       " 1.2949457535067126,\n",
       " 1.0157845013001663,\n",
       " 0.23720204777721393,\n",
       " 0.7005040002963426,\n",
       " 2.129327689094784,\n",
       " 1.8225393990991308,\n",
       " -1.1646261801796143,\n",
       " 0.8361192454581527,\n",
       " -0.6896481066933994,\n",
       " -0.379581926198712,\n",
       " 0.6070347993501685,\n",
       " -0.05886049471531436,\n",
       " 1.7237889742978196,\n",
       " 1.18459582512599,\n",
       " -0.45679375105005987,\n",
       " -0.5294014567475387,\n",
       " -0.47075833439970227,\n",
       " -1.0643362061730826,\n",
       " 1.9186510617848866,\n",
       " 0.15948763423118564,\n",
       " -0.7822279863993267,\n",
       " 1.6576203638738036,\n",
       " 0.13109889715445816,\n",
       " -1.0313994226516896,\n",
       " 0.50238293943911,\n",
       " 0.7492378515913487,\n",
       " 0.2564830502742289,\n",
       " 0.9649946532897914,\n",
       " -0.7691742748120319,\n",
       " -0.06731136084962941,\n",
       " 0.14641435848952042,\n",
       " -0.02165818920358049,\n",
       " -1.8705120888072642,\n",
       " -0.35386836116350223,\n",
       " -1.0419749560065186,\n",
       " 0.30874613771442655,\n",
       " -0.6213777387889585,\n",
       " 0.3738037021037101,\n",
       " -0.37545185507284556,\n",
       " -1.962709378212994,\n",
       " -0.2998718242687836,\n",
       " 1.0233865263230855,\n",
       " -1.736081643520339,\n",
       " 0.9727396635872794,\n",
       " 0.06810044188780537,\n",
       " 1.4960747379391477,\n",
       " -0.03324424736453011,\n",
       " -0.011779540648574028,\n",
       " 0.9143559570095846,\n",
       " 1.1233955481819435,\n",
       " 0.28125445384723025,\n",
       " 1.4060938344553193,\n",
       " -0.7928613134952627,\n",
       " -0.9184369341265992,\n",
       " -0.026412616871657236,\n",
       " 0.8022747562099625,\n",
       " -0.6126576530924467,\n",
       " 1.0405100705309736,\n",
       " -0.2875320327153318,\n",
       " -0.26454524827133524,\n",
       " -1.1604660242957714,\n",
       " -0.24734361394745932,\n",
       " 0.5535737520422899,\n",
       " -0.41546183718945073,\n",
       " 0.7816849526656,\n",
       " 0.4636069823516479,\n",
       " -0.9168172289448406,\n",
       " 0.17289244554824562,\n",
       " -1.4223031453976653,\n",
       " -1.7233283544359146,\n",
       " 1.1020728007186222,\n",
       " 0.7762924629758302,\n",
       " 0.04254859187059239,\n",
       " 0.14845886156977528,\n",
       " 0.7225036813163428,\n",
       " -0.12501307281900081,\n",
       " -1.9150933662142662,\n",
       " -1.4940798299765539,\n",
       " 0.2590109071784319,\n",
       " -2.086197691128163,\n",
       " 0.4262963362528197,\n",
       " -0.5576693362857853,\n",
       " 0.43725069915846004,\n",
       " 0.09322648893490566,\n",
       " -1.2305771391269418,\n",
       " -0.31848761587708696,\n",
       " -1.0243738220919874,\n",
       " -1.0981861533273616,\n",
       " -1.7984658214201659,\n",
       " -1.3131020468346883,\n",
       " -0.2901562854231209,\n",
       " 0.30503929480573005,\n",
       " -0.37059822644781376,\n",
       " -0.498340414278843,\n",
       " -1.372150717112109,\n",
       " 0.36462301645226847,\n",
       " -0.2783812521247448,\n",
       " 0.7127700641821477,\n",
       " 0.662791501667914,\n",
       " -2.7321474800587895,\n",
       " 1.2716851488510372,\n",
       " -0.5655453174416131,\n",
       " 0.372685615651487,\n",
       " 1.3662671685726935,\n",
       " -0.6670553202723581,\n",
       " -1.0444072254483239,\n",
       " 0.04159557749495306,\n",
       " -0.2584028217911197,\n",
       " -0.1789409650101433,\n",
       " 1.1659629693562905,\n",
       " -1.028298686722276,\n",
       " 0.9191637334079459,\n",
       " 0.37894748019821095,\n",
       " -0.6751030744845543,\n",
       " 0.4895140452471125,\n",
       " 0.044424220102104076,\n",
       " 0.7702617917058149,\n",
       " -0.40779930198038983,\n",
       " 0.9754616817336398,\n",
       " 1.8145497211929524,\n",
       " 0.5170518060541397,\n",
       " 0.17184238533727622,\n",
       " -0.31998085984970925,\n",
       " -0.8430511295302174,\n",
       " 0.19052951054754672,\n",
       " -0.20905862164839634,\n",
       " -0.7226698396793332,\n",
       " -1.3275351517532876,\n",
       " 0.4977217913289479,\n",
       " -2.879024328140844,\n",
       " -0.23765621305630233,\n",
       " 1.3606080596889825,\n",
       " 0.8691686631182023,\n",
       " 0.29968631713536736,\n",
       " -0.030883887402979582,\n",
       " 1.3682454600870941,\n",
       " 0.20073085481372885,\n",
       " 0.1888187112415558,\n",
       " -1.8507340343621705,\n",
       " -0.009006164360137348,\n",
       " -0.5957545343345615,\n",
       " 0.0736773032990449,\n",
       " -1.4788713037247092,\n",
       " -0.06248714271288591,\n",
       " -0.4632505556530191,\n",
       " 1.3596665060932367,\n",
       " 0.3528584486438838,\n",
       " 0.2103322714590547,\n",
       " 0.7877880874405492,\n",
       " 2.4453289338612647,\n",
       " 0.8587902632840609,\n",
       " 0.7395069988352561,\n",
       " 0.5638706708365703,\n",
       " -0.6576412229879509,\n",
       " -0.3162074071411169,\n",
       " 1.0954160637318409,\n",
       " 0.2647012386975135,\n",
       " -0.9560297182406643,\n",
       " 0.02544927807161912,\n",
       " -1.6878039922721328,\n",
       " 0.025592756177098865,\n",
       " -1.5065800477681464,\n",
       " 2.1676726179726487,\n",
       " 0.31056672725408846,\n",
       " -0.40825009198711937,\n",
       " 0.6352158593482258,\n",
       " -0.4685329987399328,\n",
       " -0.24822762085379252,\n",
       " -0.11870416641828711,\n",
       " -0.42791718814041174,\n",
       " 0.19179916419392526,\n",
       " 0.847758179674382,\n",
       " 1.4790791342193956,\n",
       " 1.4729935950394903,\n",
       " -1.2650226662378912,\n",
       " -0.7140780354984827,\n",
       " 0.6818132976655917,\n",
       " 1.7337390610737529,\n",
       " -0.9507122693994277,\n",
       " -2.34509821290728,\n",
       " -0.987463762608985,\n",
       " -0.3331366056361006,\n",
       " -1.5317972340375328,\n",
       " -1.014500913157042,\n",
       " -1.1447563945015014,\n",
       " 0.30652247410846767,\n",
       " -0.2606481250310438,\n",
       " 1.5333033367953732,\n",
       " -1.3163855123172206,\n",
       " 0.14162857789691047,\n",
       " -0.7554927236006008,\n",
       " 0.7962040024503552,\n",
       " 0.6697125800789095,\n",
       " 0.21261649567141064,\n",
       " 1.3488261906790613,\n",
       " 0.39646193291452647,\n",
       " 0.27051327459048624,\n",
       " 0.5186851030603705,\n",
       " 0.580933953797944,\n",
       " 0.3632097237532072,\n",
       " 1.4585292510904027,\n",
       " 1.822533341931225,\n",
       " -0.11829575183232066,\n",
       " 0.6881873962250239,\n",
       " 0.634898475432648,\n",
       " -0.3393872621753985,\n",
       " -1.3567328492421453,\n",
       " -0.036282721711504706,\n",
       " 0.33794138420387015,\n",
       " 0.3013244552410839,\n",
       " 0.504829431461738,\n",
       " 0.09649809372767351,\n",
       " 0.43733932677981074,\n",
       " -0.03201615206189814,\n",
       " 0.34523888322623153,\n",
       " -0.19206816050176556,\n",
       " -1.244111979093438,\n",
       " 0.44071264590217113,\n",
       " 0.9742066914186495,\n",
       " 1.080967140521733,\n",
       " -0.9335621520549552,\n",
       " -1.0313257383758156,\n",
       " 0.5601922213765093,\n",
       " -0.12639361301827634,\n",
       " 0.2928645487132961,\n",
       " -0.620866207807321,\n",
       " 1.0958603465303072,\n",
       " -1.772252623957351,\n",
       " -0.07278281892748736,\n",
       " 0.02697772174079418,\n",
       " 0.847947038493848,\n",
       " 0.37448324422310436,\n",
       " 0.521366444493195,\n",
       " -1.3617432570104113,\n",
       " 0.1800253816778948,\n",
       " -1.0732921519007852,\n",
       " 0.9155167548700135,\n",
       " 0.3255320570118343,\n",
       " -0.6027929921541549,\n",
       " -1.4820582489308536,\n",
       " -1.2203547455966757,\n",
       " 0.5146562926236484,\n",
       " 1.0591153509314624,\n",
       " -1.284890647391029,\n",
       " 1.1261362204673702,\n",
       " -0.8184918615079433,\n",
       " -0.4572197832166552,\n",
       " 0.8680195321989117,\n",
       " -1.0020655822627582,\n",
       " 0.359973119228804,\n",
       " 0.20351740098985474,\n",
       " -1.9980964113999597,\n",
       " -1.1328565173468959,\n",
       " 0.9241537269726023,\n",
       " 1.2479445368188267,\n",
       " -0.9289533357601478,\n",
       " 1.7569496197886636,\n",
       " 0.7774439049187862,\n",
       " 0.880711423544426,\n",
       " 0.37543761259089903,\n",
       " 0.44949796804744296,\n",
       " -0.5764533003646186,\n",
       " -0.9856799736712979,\n",
       " -0.5391088594041967,\n",
       " -0.2298624201702893,\n",
       " 1.3766630787070313,\n",
       " -1.3478516827374165,\n",
       " 0.756306273858614,\n",
       " -0.2591370797513569,\n",
       " 0.9120709199899721,\n",
       " 0.960004095175971,\n",
       " 0.23358774884777275,\n",
       " 1.2351435726587638,\n",
       " 0.1037792999249291,\n",
       " 0.4327921651149381,\n",
       " -0.2722358292755501,\n",
       " 0.276894735886701,\n",
       " -0.9779338280998872,\n",
       " -0.7030681219406383,\n",
       " -1.6960005757797014,\n",
       " 0.3317481591423849,\n",
       " -1.3316462414520998,\n",
       " 1.4958639774864508,\n",
       " 1.4311218104448487,\n",
       " 0.0013530785266866018,\n",
       " 1.0473951307429332,\n",
       " -1.5961940151705405,\n",
       " 1.1135427969501137,\n",
       " 0.4396908090170683,\n",
       " -0.05679575716123608,\n",
       " -0.8472963221271087,\n",
       " 1.0688391906314565,\n",
       " 0.8996174280799011,\n",
       " 0.5094482860012348,\n",
       " 1.0043043393049558,\n",
       " 1.6810797425683717,\n",
       " 0.7913730607609409,\n",
       " -2.351705896810924,\n",
       " 1.4581603906378746,\n",
       " 0.044445042591593875,\n",
       " -0.33681670434082844,\n",
       " 0.4944239109724379,\n",
       " 1.6288717883829478,\n",
       " 1.8538767614870395,\n",
       " 1.7706822506133961,\n",
       " 1.067441960585191,\n",
       " 1.2710415539957665,\n",
       " -0.2519134409343181,\n",
       " 0.012892232909091916,\n",
       " -0.3688281435087042,\n",
       " 0.6243955360057697,\n",
       " -0.3705803592575691,\n",
       " -2.799009238411763,\n",
       " 0.4662786845064858,\n",
       " -1.548700890725796,\n",
       " 0.4398195193688778,\n",
       " 0.9014957947743796,\n",
       " -0.124046507168228,\n",
       " 1.558532807757939,\n",
       " 0.796981847372777,\n",
       " 0.2828585351615274,\n",
       " 0.3604335247720236,\n",
       " 1.909240529544921,\n",
       " -0.5357928397085082,\n",
       " 0.4271256577846927,\n",
       " -1.1494757023934852,\n",
       " 1.0698950078358904,\n",
       " 0.09094049777319313,\n",
       " -1.331208964324066,\n",
       " 2.3964819004796185,\n",
       " -1.0308346779470186,\n",
       " 1.1105340940637434,\n",
       " -0.8663702487407633,\n",
       " 0.03774116801804439,\n",
       " -1.0500392792543891,\n",
       " -0.745811748493827,\n",
       " 0.5868067774472422,\n",
       " 0.2397670391965619,\n",
       " 1.432529793432994,\n",
       " 0.5884021452089783,\n",
       " 2.1456726956312893,\n",
       " -0.5122933561468784,\n",
       " 1.7136511667779204,\n",
       " 1.3458975318538264,\n",
       " 2.5689701333016672,\n",
       " 0.852604912993597,\n",
       " 0.20232077351228028,\n",
       " 0.1945733811057771,\n",
       " 0.6759522190686355,\n",
       " 0.5197182389637405,\n",
       " -1.0006932148339742,\n",
       " 0.6058010759636815,\n",
       " 0.9991566328364158,\n",
       " -0.9692855481614473,\n",
       " -0.29826182036388005,\n",
       " 0.01016896201329871,\n",
       " -1.2759399798646633,\n",
       " 0.17210268925180544,\n",
       " 0.4225993833633993,\n",
       " 0.6585696613620599,\n",
       " 0.13019719383039502,\n",
       " 1.7004369203507366,\n",
       " -0.5190339779443718,\n",
       " 1.0712778167296904,\n",
       " -1.2993614800609947,\n",
       " -0.4621894800933745,\n",
       " -2.6968027805448287,\n",
       " -0.7173943709328882,\n",
       " 0.24854029849431925,\n",
       " 0.11968889429356082,\n",
       " 0.216520371918331,\n",
       " -1.5332733909353458,\n",
       " 0.017523405839396843,\n",
       " 0.8889729777848402,\n",
       " -0.2640730721084353,\n",
       " -1.1133552628165666,\n",
       " 0.4388586017698174,\n",
       " 0.811815877351475,\n",
       " -1.6968250315602398,\n",
       " -1.2848881528602214,\n",
       " -0.5560069560031919,\n",
       " 0.8072934304022695,\n",
       " -0.22771739466071067,\n",
       " -0.9466977033026012,\n",
       " 0.09715425124090515,\n",
       " 0.7980630462561947,\n",
       " -1.2115777536097183,\n",
       " -0.3727267466761667,\n",
       " 0.023308361559707436,\n",
       " -0.9094008331208066,\n",
       " -0.7147483087868671,\n",
       " 0.9747206891443299,\n",
       " -1.1955949990254886,\n",
       " 0.7617706179507294,\n",
       " 0.6544699082806631,\n",
       " 1.0617602885856612,\n",
       " 1.9724386706651615,\n",
       " 1.8426092506095642,\n",
       " -0.140557013278562,\n",
       " -0.47521993714117483,\n",
       " 2.2780498674848673,\n",
       " 1.0884993511929693,\n",
       " -0.4207459428426638,\n",
       " -1.2818732220159035,\n",
       " -0.8801051466449877,\n",
       " -0.317491102424885,\n",
       " 2.2728315691380514,\n",
       " 1.357633664385156,\n",
       " -1.3876711383427236,\n",
       " -1.3947568630076304,\n",
       " -0.8287667611889724,\n",
       " 0.6381283752599145,\n",
       " 2.818820847031881,\n",
       " -0.6374346112054056,\n",
       " -0.3420003876829824,\n",
       " -0.9207900754496336,\n",
       " -0.17717393408165308,\n",
       " -1.7899202359115747,\n",
       " -2.8165979882688963,\n",
       " -0.26432642495237246,\n",
       " -0.10625996763338322,\n",
       " -0.814138886916281,\n",
       " 1.0417205126754367,\n",
       " -1.3429190257344061,\n",
       " -0.08442738516320389,\n",
       " -1.2062007631942293,\n",
       " -1.9937279581437146,\n",
       " 0.7002797522865649,\n",
       " 1.1055971713107156,\n",
       " -0.20574850174959353,\n",
       " 0.6946918621751166,\n",
       " 0.0010930722414428829,\n",
       " -0.8038034642212836,\n",
       " 0.2133594096155676,\n",
       " -0.17097214587768333,\n",
       " 0.5648392050614092,\n",
       " 0.34222749349906323,\n",
       " 0.7157989894340162,\n",
       " -0.06939337978206125,\n",
       " -0.14064879327190524,\n",
       " -0.6952733846727988,\n",
       " 0.6032297612235424,\n",
       " 0.10364163000945581,\n",
       " -0.5226632478166927,\n",
       " 0.46410981325415007,\n",
       " -0.4993212327274719,\n",
       " -0.42524176671026337,\n",
       " 0.21075763798845842,\n",
       " 1.219472404867254,\n",
       " -0.9417482522779792,\n",
       " 1.764411954405756,\n",
       " -1.1937784611655637,\n",
       " 1.7942615662302586,\n",
       " 1.8967964228533176,\n",
       " -0.37772591430444324,\n",
       " -0.7414903412683614,\n",
       " -1.5081953022188075,\n",
       " -1.2565020483597493,\n",
       " -0.20091628461680813,\n",
       " -0.27773810320551673,\n",
       " 0.25636564209452073,\n",
       " -1.580214517901517,\n",
       " -1.141481551701056,\n",
       " 0.8118284697447521,\n",
       " -0.9288622905797034,\n",
       " 0.3361800036808205,\n",
       " 2.0823541144696334,\n",
       " 0.4018638690376804,\n",
       " 0.8339241192866268,\n",
       " -0.29103651060766184,\n",
       " 2.071321713267031,\n",
       " -0.26738174085955324,\n",
       " 1.4137824391148386,\n",
       " 0.7809576034828354,\n",
       " -0.5329099023699342,\n",
       " -1.5083535708394749,\n",
       " -0.8240061480961195,\n",
       " -0.8862631206367262,\n",
       " 0.3286981991659822,\n",
       " 0.11579569389214157,\n",
       " -1.7899546329075775,\n",
       " 1.0283032391561506,\n",
       " -0.576944923938985,\n",
       " 0.2944315194154292,\n",
       " -1.3575081219643508,\n",
       " -1.1749152932664912,\n",
       " -0.2030180704683943,\n",
       " 0.42934089308858747,\n",
       " 0.8755501605942229,\n",
       " -0.8527110229555689,\n",
       " 2.3605201226439716,\n",
       " -0.23030599415271738,\n",
       " 1.0339835518368772,\n",
       " 0.2954270182057819,\n",
       " -0.008529636909992888,\n",
       " -0.7691085603904568,\n",
       " 0.025057876818560487,\n",
       " 0.6940802447354955,\n",
       " -1.5246565726521575,\n",
       " 0.9327605091621166,\n",
       " 0.7577701085143402,\n",
       " -0.7905330158772699,\n",
       " -0.7736895786965888,\n",
       " 1.0212304989050467,\n",
       " -0.08761276527491332,\n",
       " 0.48740280022419713,\n",
       " 0.8754649801905302,\n",
       " 1.0461655372940952,\n",
       " -1.1399017919955021,\n",
       " -0.35215693376655965,\n",
       " 0.06069932096375865,\n",
       " 1.1518851086220026,\n",
       " -0.019381949426548317,\n",
       " 0.08467677559529747,\n",
       " 0.1748266833967307,\n",
       " -1.0969731209838443,\n",
       " -1.5421314792626355,\n",
       " 0.6554634083359303,\n",
       " -0.46583677174364124,\n",
       " 0.4059994298398834,\n",
       " -1.3758099748590333,\n",
       " 0.45599125560668485,\n",
       " -0.28190202414131205,\n",
       " 0.23556848006498682,\n",
       " -0.41805693834236024,\n",
       " 1.3496212822322178,\n",
       " 0.2075803937425576,\n",
       " 2.0008578620014803,\n",
       " -0.3281147439270512,\n",
       " -1.0677520819609214,\n",
       " 1.5942305347046386,\n",
       " 0.6388089847134168,\n",
       " -1.947363627464189,\n",
       " -0.0009517873356585937,\n",
       " 0.7059800817473032,\n",
       " 1.2612581203693694,\n",
       " 1.7083565296698637,\n",
       " 0.5019673757628766,\n",
       " 0.6250236933930268,\n",
       " 0.4754425994090042,\n",
       " 1.8787514276375332,\n",
       " -1.3335015093318616,\n",
       " 1.0109633846700306,\n",
       " -0.5806840038776933,\n",
       " -0.350679531106563,\n",
       " 1.4813470940757867,\n",
       " -1.34584145726881,\n",
       " 1.2932309672562752,\n",
       " -3.1825680819693116,\n",
       " 0.5388980643788329,\n",
       " -1.8179838755313553,\n",
       " -1.04706322813784,\n",
       " -0.05554698239145779,\n",
       " -1.9371172046510394,\n",
       " -0.5169613442723403,\n",
       " 1.229577018790137,\n",
       " 1.4206424732695269,\n",
       " -1.1166588737692826,\n",
       " -0.5066761318157461,\n",
       " 0.40552170215332384,\n",
       " 1.3945495355714654,\n",
       " -0.6311476901572675,\n",
       " 0.15189261698293563,\n",
       " -1.7019222084807937,\n",
       " 0.02246344831428999,\n",
       " 1.6063392275514303,\n",
       " 1.082858512631472,\n",
       " -0.5870612006624334,\n",
       " 0.12673135341525565,\n",
       " -0.3518921381827937,\n",
       " -0.09053684394269723,\n",
       " -0.5584576563099454,\n",
       " -0.4651952553031499,\n",
       " -0.685045678153702,\n",
       " 0.22567447588075568,\n",
       " -0.5740007365704265,\n",
       " -0.4892394881856525,\n",
       " 1.2064240785360199,\n",
       " -0.6072086751872184,\n",
       " 1.035052146969295,\n",
       " 0.1092582652305893,\n",
       " -0.4890585749029682,\n",
       " -0.26188691720124097,\n",
       " -1.0372612494850095,\n",
       " 0.4329326137863845,\n",
       " -0.7102569390752201,\n",
       " 1.2051790750632634,\n",
       " 0.41663208223132386,\n",
       " 0.42667723132621804,\n",
       " 0.6924972935090707,\n",
       " 0.4722237999171952,\n",
       " -2.8861275935099586,\n",
       " 0.30991004481656576,\n",
       " -0.14101878411596616,\n",
       " 1.2979440032182539,\n",
       " -1.0154791061900084,\n",
       " 0.28516567684351274,\n",
       " -0.1595104833406026,\n",
       " 0.3796458831478134,\n",
       " 0.5493801759289084,\n",
       " 0.20511562927315835,\n",
       " -0.6682855818406381,\n",
       " 1.1135144549294964,\n",
       " 0.7999155930516195,\n",
       " 0.5459968069964901,\n",
       " -0.0032600710164899737,\n",
       " 0.7253318374397892,\n",
       " 0.3801441162897369,\n",
       " -0.7180534490464303,\n",
       " -1.9922959422367683,\n",
       " -1.4504448725624854,\n",
       " 2.0271588660642963,\n",
       " -0.8451148838997788,\n",
       " 0.6987372426468781,\n",
       " -1.2669156310147442,\n",
       " 1.2576127937287922,\n",
       " -0.4531817233007189,\n",
       " -1.4252597747132967,\n",
       " -0.9548397047917859,\n",
       " 0.16793578878025314,\n",
       " -0.35386908771242676,\n",
       " 0.37264521912068177,\n",
       " -0.6059955704628862,\n",
       " -0.3758017765693971,\n",
       " 0.6303485579779832,\n",
       " 0.3210040266193843,\n",
       " 0.12298078425097643,\n",
       " -1.1174226214213605,\n",
       " 0.7448419712823793,\n",
       " 1.9116625657699415,\n",
       " -1.5923294655274602,\n",
       " 1.7176844457036993,\n",
       " 0.9334367002010481,\n",
       " -1.4370488375809678,\n",
       " -0.014181256120490815,\n",
       " -1.2189376695535217,\n",
       " 0.2754659689483745,\n",
       " 0.03163357277179628,\n",
       " -0.13870863855867482,\n",
       " -0.762301454832533,\n",
       " -0.9733438103863093,\n",
       " -0.8997677708528343,\n",
       " -0.29535329297845647,\n",
       " -0.8819903325457318,\n",
       " -0.031648150808212705,\n",
       " -0.44819864797722386,\n",
       " -0.6256804304270311,\n",
       " -0.6398755605886166,\n",
       " 0.044989515790659594,\n",
       " 0.1261874148159869,\n",
       " 0.1689606657865248,\n",
       " -0.44669583308470634,\n",
       " -1.5047767761219795,\n",
       " -0.915946870262006,\n",
       " -3.277436825759073,\n",
       " 0.8696291928964073,\n",
       " 0.31978033112186,\n",
       " -1.647254707470593,\n",
       " 1.164979104078192,\n",
       " -0.12824724193697107,\n",
       " 0.3994598471475328,\n",
       " -0.2338440538201496,\n",
       " -0.8018495759120376,\n",
       " -0.4020098146267969,\n",
       " -0.4721469721186594,\n",
       " 1.148066720086696,\n",
       " 1.7082644915469842,\n",
       " -0.21444886536501784,\n",
       " -1.0034421117185146,\n",
       " 2.2569010071116566,\n",
       " -0.3376464199332503,\n",
       " -0.6203181374513406,\n",
       " -1.4108193525416568,\n",
       " 0.7824202783616343,\n",
       " 0.1670407131516562,\n",
       " 0.12673370773682252,\n",
       " 0.1493426967327096,\n",
       " 0.9386967298804592,\n",
       " 1.4734616041365598,\n",
       " 1.4534909206044475,\n",
       " 1.0178684381670393,\n",
       " -1.0578072721452443,\n",
       " -0.24478053505958214,\n",
       " -0.3643168066572017,\n",
       " 0.0141065985110167,\n",
       " -0.9881059987150522,\n",
       " -0.16819894191782653,\n",
       " -1.0456598219042874,\n",
       " -0.365110904791991,\n",
       " 0.24254178688756128,\n",
       " -0.46811723281969153,\n",
       " 2.3442510259941116,\n",
       " 0.6062731202585425,\n",
       " 0.38399356580803,\n",
       " 2.349092694811938,\n",
       " -0.6155923726495374,\n",
       " -0.9396465222230092,\n",
       " -0.1660055163445854,\n",
       " -1.0179052712726573,\n",
       " -0.2235876888158522,\n",
       " -0.8306974749620067,\n",
       " -0.8461668335206476,\n",
       " -0.5699848238414965,\n",
       " -0.25405014080924887,\n",
       " 0.2935534809995531,\n",
       " -0.005211384051842316,\n",
       " -1.565489582990312,\n",
       " 0.020725758845736665,\n",
       " -0.9907559522833502,\n",
       " 0.5079796855456366,\n",
       " -1.0513947039188594,\n",
       " 0.35183891695148334,\n",
       " -1.2844630491989697,\n",
       " -0.8816926493214652,\n",
       " -0.4717274943020783,\n",
       " 0.024643567269728096,\n",
       " 0.2145242815306247,\n",
       " 0.23491887501403852,\n",
       " -0.5756843301293351,\n",
       " 0.9983899483280624,\n",
       " 0.283253970030529,\n",
       " 1.096547661517863,\n",
       " 2.3611062166132184,\n",
       " 0.8398864192180155,\n",
       " -1.7951564278479766,\n",
       " 0.9463969945333617,\n",
       " -1.382153363791835,\n",
       " -0.8573975970096825,\n",
       " 0.2302966626894296,\n",
       " 0.9367044972860696,\n",
       " -1.1586017094049894,\n",
       " -1.0681849250835804,\n",
       " -0.7413126791290814,\n",
       " 0.5864604062242037,\n",
       " -2.6878304227228633,\n",
       " 0.5452332744084515,\n",
       " -0.49489460801742097,\n",
       " -0.5418521763970929,\n",
       " -0.172360499407457,\n",
       " 1.0822443120422576,\n",
       " 0.9646603171815485,\n",
       " 0.15658685401152966,\n",
       " -0.2908904316437841,\n",
       " -1.4518023677800813,\n",
       " 0.6768038780930539,\n",
       " 0.8156824192832062,\n",
       " -0.0036392294261176515,\n",
       " -0.4033478440007158,\n",
       " 0.03810126273379737,\n",
       " 1.0055400845751463,\n",
       " -0.07641161726478955,\n",
       " 1.203327212275525,\n",
       " -0.017910728026454593,\n",
       " -0.12680044283353809,\n",
       " 0.16818499844927998,\n",
       " -0.19631909357099603,\n",
       " -0.4114176337365734,\n",
       " 0.21598091265558778,\n",
       " 0.6947104353353595,\n",
       " 0.0031745698785400124,\n",
       " -0.8852417489220059,\n",
       " 0.4337350727562594,\n",
       " 1.4824811814518966,\n",
       " -0.2219855691218413,\n",
       " 0.6644086037818056,\n",
       " -0.5900563382264956,\n",
       " -1.6468846162428505,\n",
       " 0.7275966806262844,\n",
       " 0.1051299045355691,\n",
       " -1.366716736271546,\n",
       " 0.8225031917685939,\n",
       " -1.1843154466044254,\n",
       " 0.6604177489623752,\n",
       " -0.42367081694026465,\n",
       " -0.05099081424562257,\n",
       " -0.9240179826536071,\n",
       " 1.4505466322408112,\n",
       " 0.4339118643108321,\n",
       " 0.01557018868690534,\n",
       " -1.8419074572325755,\n",
       " 0.7062195349755143,\n",
       " 1.6593595669275714,\n",
       " 0.7830290035571565,\n",
       " 1.124740690011474,\n",
       " -0.7293661113920038,\n",
       " 0.482115111854678,\n",
       " 0.6525187983928064,\n",
       " 0.10514319970903756,\n",
       " 0.4233440148751271,\n",
       " 0.7429035054710795,\n",
       " -0.867766768975575,\n",
       " -0.8743572523766424,\n",
       " -1.6792926358230318,\n",
       " 0.7991848492902974,\n",
       " 0.8778995109991271,\n",
       " -1.498290226342909,\n",
       " 0.3861432175502948,\n",
       " -0.2696129000386726,\n",
       " -0.7362493062341884,\n",
       " 1.0044856217613785,\n",
       " 0.713404665484201,\n",
       " 1.371580020989866,\n",
       " -0.5083624464661185,\n",
       " -1.2722543536223945,\n",
       " -0.03682684428654,\n",
       " -0.4860120219669291,\n",
       " -1.7397794432334734,\n",
       " -0.5086387251853524,\n",
       " -0.5415427480709155,\n",
       " -0.17030948734361573,\n",
       " 1.806421137500584,\n",
       " 1.1382918055479734,\n",
       " -0.4227093060036111,\n",
       " 0.10185648583991096,\n",
       " 0.770720295115271,\n",
       " 0.15765253220703954,\n",
       " -1.3581818098923315,\n",
       " -0.11815063254607594,\n",
       " -0.6769420049421327,\n",
       " 1.1314877741413767,\n",
       " 1.3896392577522036,\n",
       " 0.10539383808135412,\n",
       " -0.5383274869730001,\n",
       " 1.0459469153144696,\n",
       " -0.7661732781954023,\n",
       " -0.9525154325581603,\n",
       " -0.3462089296220718,\n",
       " -0.33914542204995685,\n",
       " 1.2501547316717336,\n",
       " -1.6448451616569941,\n",
       " 0.20513184413547805,\n",
       " -0.24590559543710383,\n",
       " -2.706147513825532,\n",
       " 1.0486149327092462,\n",
       " -0.1474368634031194,\n",
       " -0.31600716598181505,\n",
       " 1.3995695030094608,\n",
       " -1.1382747838497551,\n",
       " 0.45084801728759916,\n",
       " -0.9833642638803873,\n",
       " -0.4321301685912779,\n",
       " -0.8748364314145576,\n",
       " -2.2137820996767834,\n",
       " 1.0935990174049834,\n",
       " 0.8813821151263284,\n",
       " -0.3935730979250621,\n",
       " -1.777617405936389,\n",
       " -0.8677279574648935,\n",
       " 0.6105705874542366,\n",
       " 0.15614120187680883,\n",
       " -0.2756275225983572,\n",
       " -1.3866714326099427,\n",
       " -1.3140428683363694,\n",
       " 0.5395441466725757,\n",
       " -1.5292505774538234,\n",
       " -0.7420571252397956,\n",
       " 0.32735210326526953,\n",
       " -0.35509072095096456,\n",
       " 1.4369752532513629,\n",
       " -0.5269763120496869,\n",
       " 0.4672595583119218,\n",
       " 0.9175630003949209,\n",
       " -0.04234396541803846,\n",
       " 1.975166604473867,\n",
       " 1.3597368368875422,\n",
       " 0.9069863688285238,\n",
       " -0.7337013418082229,\n",
       " 0.5374896636364568,\n",
       " -0.6189844109163672,\n",
       " -1.186949286532466,\n",
       " 1.4739177039263835,\n",
       " 1.9962882376265285,\n",
       " 0.5463331603869875,\n",
       " -0.837522527477909,\n",
       " 1.3045596427301902,\n",
       " 1.594300729238428,\n",
       " 0.05087162773393104,\n",
       " -1.7248435450931736,\n",
       " -0.13348128400991327,\n",
       " -0.013854105543736495,\n",
       " 0.02434605919208508,\n",
       " 0.07942811508428207,\n",
       " -0.8693545748109436,\n",
       " 0.40919336495206127,\n",
       " -1.0884065743345253,\n",
       " -1.0781268576447793,\n",
       " 1.0741958901448014,\n",
       " 0.8841910902273739,\n",
       " -1.128107327633657,\n",
       " 0.7684359097505208,\n",
       " -1.617340281667279,\n",
       " -1.8486646326205445,\n",
       " -0.8806184916305441,\n",
       " -0.030044015526367217,\n",
       " 0.9927409746326674,\n",
       " 0.0886312473077318,\n",
       " 1.3310884253412083,\n",
       " -1.1627584550737609,\n",
       " 0.5136360283227674,\n",
       " -0.023527208032806612,\n",
       " -1.1074248109516247,\n",
       " 1.5076969266404574,\n",
       " 1.2990518022679183,\n",
       " 0.19293937842722073,\n",
       " 0.4238013040082052,\n",
       " -0.38374691041064535,\n",
       " 1.3081720582919503,\n",
       " 0.7102177544225426,\n",
       " 0.6835483473481545,\n",
       " -1.0838297959869678,\n",
       " -0.4867972525261635,\n",
       " 0.20391682078149032,\n",
       " 1.8563283684550966,\n",
       " -0.1297315679495739,\n",
       " 0.7077830624380482,\n",
       " 0.5129831197366173,\n",
       " -1.258393674973273,\n",
       " -0.39069868793722334,\n",
       " ...]"
      ]
     },
     "execution_count": 58,
     "metadata": {},
     "output_type": "execute_result"
    }
   ],
   "source": [
    "l# trnasfomed values"
   ]
  },
  {
   "cell_type": "code",
   "execution_count": 59,
   "id": "81a8f9ae",
   "metadata": {},
   "outputs": [
    {
     "data": {
      "text/plain": [
       "-0.0019443260813344055"
      ]
     },
     "execution_count": 59,
     "metadata": {},
     "output_type": "execute_result"
    }
   ],
   "source": [
    "np.mean(l)"
   ]
  },
  {
   "cell_type": "code",
   "execution_count": 60,
   "id": "013e3c8a",
   "metadata": {},
   "outputs": [
    {
     "data": {
      "text/plain": [
       "0.9971301104304308"
      ]
     },
     "execution_count": 60,
     "metadata": {},
     "output_type": "execute_result"
    }
   ],
   "source": [
    "np.std(l)"
   ]
  },
  {
   "cell_type": "code",
   "execution_count": 61,
   "id": "3b4ea660",
   "metadata": {},
   "outputs": [
    {
     "data": {
      "image/png": "[encoded data removed]",
      "text/plain": [
       "<Figure size 432x288 with 1 Axes>"
      ]
     },
     "metadata": {
      "needs_background": "light"
     },
     "output_type": "display_data"
    }
   ],
   "source": [
    "sns.distplot(l);"
   ]
  },
  {
   "cell_type": "markdown",
   "id": "7f2c0cbc",
   "metadata": {},
   "source": [
    "## Scaling\n",
    "### The penomena which convert ND to SND is called Scaling this scaling is called standardisation\n",
    "- Standarddisation method (when data is normally distribution)\n",
    "- min-max scaler method (when data is not normally distribution)"
   ]
  },
  {
   "cell_type": "markdown",
   "id": "544355e9",
   "metadata": {},
   "source": [
    "### Min-Max Scalor"
   ]
  },
  {
   "cell_type": "code",
   "execution_count": 62,
   "id": "a781113c",
   "metadata": {},
   "outputs": [
    {
     "data": {
      "image/png": "[encoded data removed]",
      "text/plain": [
       "<Figure size 432x288 with 1 Axes>"
      ]
     },
     "metadata": {
      "needs_background": "light"
     },
     "output_type": "display_data"
    }
   ],
   "source": [
    "a=[150,154,153,160,154,153,152,151,157,158]\n",
    "sns.distplot(a);"
   ]
  },
  {
   "cell_type": "code",
   "execution_count": 63,
   "id": "da0d2f30",
   "metadata": {},
   "outputs": [
    {
     "data": {
      "text/plain": [
       "0.5445260694579825"
      ]
     },
     "execution_count": 63,
     "metadata": {},
     "output_type": "execute_result"
    }
   ],
   "source": [
    "st.skew(a)"
   ]
  },
  {
   "cell_type": "markdown",
   "id": "6e6aa8c2",
   "metadata": {},
   "source": [
    "### Min-Max formula"
   ]
  },
  {
   "cell_type": "code",
   "execution_count": 64,
   "id": "ed6dc5b7",
   "metadata": {},
   "outputs": [],
   "source": [
    "l=[]\n",
    "for i in a:\n",
    "    sacled=(i-min(a))/(max(a)-min(a))\n",
    "    l.append(sacled)"
   ]
  },
  {
   "cell_type": "code",
   "execution_count": 65,
   "id": "5d9182f3",
   "metadata": {},
   "outputs": [
    {
     "data": {
      "text/plain": [
       "[0.0, 0.4, 0.3, 1.0, 0.4, 0.3, 0.2, 0.1, 0.7, 0.8]"
      ]
     },
     "execution_count": 65,
     "metadata": {},
     "output_type": "execute_result"
    }
   ],
   "source": [
    "l"
   ]
  },
  {
   "cell_type": "markdown",
   "id": "97f2d2ee",
   "metadata": {},
   "source": [
    "## Standardisation method "
   ]
  },
  {
   "cell_type": "code",
   "execution_count": 66,
   "id": "53c6d937",
   "metadata": {},
   "outputs": [
    {
     "data": {
      "text/html": [
       "<div>\n",
       "<style scoped>\n",
       "    .dataframe tbody tr th:only-of-type {\n",
       "        vertical-align: middle;\n",
       "    }\n",
       "\n",
       "    .dataframe tbody tr th {\n",
       "        vertical-align: top;\n",
       "    }\n",
       "\n",
       "    .dataframe thead th {\n",
       "        text-align: right;\n",
       "    }\n",
       "</style>\n",
       "<table border=\"1\" class=\"dataframe\">\n",
       "  <thead>\n",
       "    <tr style=\"text-align: right;\">\n",
       "      <th></th>\n",
       "      <th>age</th>\n",
       "      <th>salary</th>\n",
       "    </tr>\n",
       "  </thead>\n",
       "  <tbody>\n",
       "    <tr>\n",
       "      <th>0</th>\n",
       "      <td>20</td>\n",
       "      <td>10000</td>\n",
       "    </tr>\n",
       "    <tr>\n",
       "      <th>1</th>\n",
       "      <td>30</td>\n",
       "      <td>120000</td>\n",
       "    </tr>\n",
       "    <tr>\n",
       "      <th>2</th>\n",
       "      <td>40</td>\n",
       "      <td>125000</td>\n",
       "    </tr>\n",
       "    <tr>\n",
       "      <th>3</th>\n",
       "      <td>50</td>\n",
       "      <td>15000</td>\n",
       "    </tr>\n",
       "    <tr>\n",
       "      <th>4</th>\n",
       "      <td>55</td>\n",
       "      <td>20000</td>\n",
       "    </tr>\n",
       "    <tr>\n",
       "      <th>5</th>\n",
       "      <td>25</td>\n",
       "      <td>40000</td>\n",
       "    </tr>\n",
       "    <tr>\n",
       "      <th>6</th>\n",
       "      <td>60</td>\n",
       "      <td>5000</td>\n",
       "    </tr>\n",
       "  </tbody>\n",
       "</table>\n",
       "</div>"
      ],
      "text/plain": [
       "   age  salary\n",
       "0   20   10000\n",
       "1   30  120000\n",
       "2   40  125000\n",
       "3   50   15000\n",
       "4   55   20000\n",
       "5   25   40000\n",
       "6   60    5000"
      ]
     },
     "execution_count": 66,
     "metadata": {},
     "output_type": "execute_result"
    }
   ],
   "source": [
    "df=pd.DataFrame({\"age\":[20,30,40,50,55,25,60],\"salary\":[10000,120000,125000,15000,20000,40000,5000]})\n",
    "df"
   ]
  },
  {
   "cell_type": "code",
   "execution_count": 67,
   "id": "38fe9fd4",
   "metadata": {},
   "outputs": [
    {
     "data": {
      "text/plain": [
       "array([[-1.38961667, -0.78348892],\n",
       "       [-0.69480833,  1.4930638 ],\n",
       "       [ 0.        ,  1.59654347],\n",
       "       [ 0.69480833, -0.68000926],\n",
       "       [ 1.0422125 , -0.57652959],\n",
       "       [-1.0422125 , -0.16261091],\n",
       "       [ 1.38961667, -0.88696859]])"
      ]
     },
     "execution_count": 67,
     "metadata": {},
     "output_type": "execute_result"
    }
   ],
   "source": [
    "from sklearn.preprocessing import StandardScaler\n",
    "scaler=StandardScaler()\n",
    "scaler.fit(df)\n",
    "scaled_df=scaler.transform(df)\n",
    "scaled_df"
   ]
  },
  {
   "cell_type": "code",
   "execution_count": 68,
   "id": "8892f650",
   "metadata": {},
   "outputs": [
    {
     "data": {
      "text/html": [
       "<div>\n",
       "<style scoped>\n",
       "    .dataframe tbody tr th:only-of-type {\n",
       "        vertical-align: middle;\n",
       "    }\n",
       "\n",
       "    .dataframe tbody tr th {\n",
       "        vertical-align: top;\n",
       "    }\n",
       "\n",
       "    .dataframe thead th {\n",
       "        text-align: right;\n",
       "    }\n",
       "</style>\n",
       "<table border=\"1\" class=\"dataframe\">\n",
       "  <thead>\n",
       "    <tr style=\"text-align: right;\">\n",
       "      <th></th>\n",
       "      <th>Sacled_Age</th>\n",
       "      <th>Sacled_Salary</th>\n",
       "    </tr>\n",
       "  </thead>\n",
       "  <tbody>\n",
       "    <tr>\n",
       "      <th>0</th>\n",
       "      <td>-1.389617</td>\n",
       "      <td>-0.783489</td>\n",
       "    </tr>\n",
       "    <tr>\n",
       "      <th>1</th>\n",
       "      <td>-0.694808</td>\n",
       "      <td>1.493064</td>\n",
       "    </tr>\n",
       "    <tr>\n",
       "      <th>2</th>\n",
       "      <td>0.000000</td>\n",
       "      <td>1.596543</td>\n",
       "    </tr>\n",
       "    <tr>\n",
       "      <th>3</th>\n",
       "      <td>0.694808</td>\n",
       "      <td>-0.680009</td>\n",
       "    </tr>\n",
       "    <tr>\n",
       "      <th>4</th>\n",
       "      <td>1.042213</td>\n",
       "      <td>-0.576530</td>\n",
       "    </tr>\n",
       "    <tr>\n",
       "      <th>5</th>\n",
       "      <td>-1.042213</td>\n",
       "      <td>-0.162611</td>\n",
       "    </tr>\n",
       "    <tr>\n",
       "      <th>6</th>\n",
       "      <td>1.389617</td>\n",
       "      <td>-0.886969</td>\n",
       "    </tr>\n",
       "  </tbody>\n",
       "</table>\n",
       "</div>"
      ],
      "text/plain": [
       "   Sacled_Age  Sacled_Salary\n",
       "0   -1.389617      -0.783489\n",
       "1   -0.694808       1.493064\n",
       "2    0.000000       1.596543\n",
       "3    0.694808      -0.680009\n",
       "4    1.042213      -0.576530\n",
       "5   -1.042213      -0.162611\n",
       "6    1.389617      -0.886969"
      ]
     },
     "execution_count": 68,
     "metadata": {},
     "output_type": "execute_result"
    }
   ],
   "source": [
    "df=pd.DataFrame(scaled_df,columns=[\"Sacled_Age\",\"Sacled_Salary\"])\n",
    "df"
   ]
  },
  {
   "cell_type": "markdown",
   "id": "2c1cac2d",
   "metadata": {},
   "source": [
    "## Min-Max Scalor"
   ]
  },
  {
   "cell_type": "code",
   "execution_count": 69,
   "id": "98ed1d1b",
   "metadata": {},
   "outputs": [
    {
     "data": {
      "text/html": [
       "<div>\n",
       "<style scoped>\n",
       "    .dataframe tbody tr th:only-of-type {\n",
       "        vertical-align: middle;\n",
       "    }\n",
       "\n",
       "    .dataframe tbody tr th {\n",
       "        vertical-align: top;\n",
       "    }\n",
       "\n",
       "    .dataframe thead th {\n",
       "        text-align: right;\n",
       "    }\n",
       "</style>\n",
       "<table border=\"1\" class=\"dataframe\">\n",
       "  <thead>\n",
       "    <tr style=\"text-align: right;\">\n",
       "      <th></th>\n",
       "      <th>weight</th>\n",
       "      <th>height</th>\n",
       "    </tr>\n",
       "  </thead>\n",
       "  <tbody>\n",
       "    <tr>\n",
       "      <th>0</th>\n",
       "      <td>12</td>\n",
       "      <td>123</td>\n",
       "    </tr>\n",
       "    <tr>\n",
       "      <th>1</th>\n",
       "      <td>10</td>\n",
       "      <td>100</td>\n",
       "    </tr>\n",
       "    <tr>\n",
       "      <th>2</th>\n",
       "      <td>15</td>\n",
       "      <td>155</td>\n",
       "    </tr>\n",
       "    <tr>\n",
       "      <th>3</th>\n",
       "      <td>16</td>\n",
       "      <td>160</td>\n",
       "    </tr>\n",
       "    <tr>\n",
       "      <th>4</th>\n",
       "      <td>34</td>\n",
       "      <td>134</td>\n",
       "    </tr>\n",
       "    <tr>\n",
       "      <th>5</th>\n",
       "      <td>56</td>\n",
       "      <td>156</td>\n",
       "    </tr>\n",
       "    <tr>\n",
       "      <th>6</th>\n",
       "      <td>26</td>\n",
       "      <td>126</td>\n",
       "    </tr>\n",
       "    <tr>\n",
       "      <th>7</th>\n",
       "      <td>78</td>\n",
       "      <td>178</td>\n",
       "    </tr>\n",
       "    <tr>\n",
       "      <th>8</th>\n",
       "      <td>68</td>\n",
       "      <td>186</td>\n",
       "    </tr>\n",
       "  </tbody>\n",
       "</table>\n",
       "</div>"
      ],
      "text/plain": [
       "   weight  height\n",
       "0      12     123\n",
       "1      10     100\n",
       "2      15     155\n",
       "3      16     160\n",
       "4      34     134\n",
       "5      56     156\n",
       "6      26     126\n",
       "7      78     178\n",
       "8      68     186"
      ]
     },
     "execution_count": 69,
     "metadata": {},
     "output_type": "execute_result"
    }
   ],
   "source": [
    "df=pd.DataFrame({\"weight\":[12,10,15,16,34,56,26,78,68],\"height\":[123,100,155,160,134,156,126,178,186]})\n",
    "df"
   ]
  },
  {
   "cell_type": "code",
   "execution_count": 70,
   "id": "b75bece1",
   "metadata": {},
   "outputs": [
    {
     "data": {
      "image/png": "[encoded data removed]",
      "text/plain": [
       "<Figure size 432x288 with 1 Axes>"
      ]
     },
     "metadata": {
      "needs_background": "light"
     },
     "output_type": "display_data"
    }
   ],
   "source": [
    "sns.distplot(df);"
   ]
  },
  {
   "cell_type": "code",
   "execution_count": 71,
   "id": "c0a9b1bb",
   "metadata": {},
   "outputs": [
    {
     "data": {
      "text/plain": [
       "array([[0.02941176, 0.26744186],\n",
       "       [0.        , 0.        ],\n",
       "       [0.07352941, 0.63953488],\n",
       "       [0.08823529, 0.69767442],\n",
       "       [0.35294118, 0.39534884],\n",
       "       [0.67647059, 0.65116279],\n",
       "       [0.23529412, 0.30232558],\n",
       "       [1.        , 0.90697674],\n",
       "       [0.85294118, 1.        ]])"
      ]
     },
     "execution_count": 71,
     "metadata": {},
     "output_type": "execute_result"
    }
   ],
   "source": [
    "from sklearn.preprocessing import MinMaxScaler\n",
    "scaler= MinMaxScaler()\n",
    "scaler.fit(df)\n",
    "scaled_df=scaler.transform(df)\n",
    "scaled_df"
   ]
  },
  {
   "cell_type": "code",
   "execution_count": 72,
   "id": "55eadfbd",
   "metadata": {},
   "outputs": [
    {
     "data": {
      "text/html": [
       "<div>\n",
       "<style scoped>\n",
       "    .dataframe tbody tr th:only-of-type {\n",
       "        vertical-align: middle;\n",
       "    }\n",
       "\n",
       "    .dataframe tbody tr th {\n",
       "        vertical-align: top;\n",
       "    }\n",
       "\n",
       "    .dataframe thead th {\n",
       "        text-align: right;\n",
       "    }\n",
       "</style>\n",
       "<table border=\"1\" class=\"dataframe\">\n",
       "  <thead>\n",
       "    <tr style=\"text-align: right;\">\n",
       "      <th></th>\n",
       "      <th>Sacled_Age</th>\n",
       "      <th>Sacled_Salary</th>\n",
       "    </tr>\n",
       "  </thead>\n",
       "  <tbody>\n",
       "    <tr>\n",
       "      <th>0</th>\n",
       "      <td>0.029412</td>\n",
       "      <td>0.267442</td>\n",
       "    </tr>\n",
       "    <tr>\n",
       "      <th>1</th>\n",
       "      <td>0.000000</td>\n",
       "      <td>0.000000</td>\n",
       "    </tr>\n",
       "    <tr>\n",
       "      <th>2</th>\n",
       "      <td>0.073529</td>\n",
       "      <td>0.639535</td>\n",
       "    </tr>\n",
       "    <tr>\n",
       "      <th>3</th>\n",
       "      <td>0.088235</td>\n",
       "      <td>0.697674</td>\n",
       "    </tr>\n",
       "    <tr>\n",
       "      <th>4</th>\n",
       "      <td>0.352941</td>\n",
       "      <td>0.395349</td>\n",
       "    </tr>\n",
       "    <tr>\n",
       "      <th>5</th>\n",
       "      <td>0.676471</td>\n",
       "      <td>0.651163</td>\n",
       "    </tr>\n",
       "    <tr>\n",
       "      <th>6</th>\n",
       "      <td>0.235294</td>\n",
       "      <td>0.302326</td>\n",
       "    </tr>\n",
       "    <tr>\n",
       "      <th>7</th>\n",
       "      <td>1.000000</td>\n",
       "      <td>0.906977</td>\n",
       "    </tr>\n",
       "    <tr>\n",
       "      <th>8</th>\n",
       "      <td>0.852941</td>\n",
       "      <td>1.000000</td>\n",
       "    </tr>\n",
       "  </tbody>\n",
       "</table>\n",
       "</div>"
      ],
      "text/plain": [
       "   Sacled_Age  Sacled_Salary\n",
       "0    0.029412       0.267442\n",
       "1    0.000000       0.000000\n",
       "2    0.073529       0.639535\n",
       "3    0.088235       0.697674\n",
       "4    0.352941       0.395349\n",
       "5    0.676471       0.651163\n",
       "6    0.235294       0.302326\n",
       "7    1.000000       0.906977\n",
       "8    0.852941       1.000000"
      ]
     },
     "execution_count": 72,
     "metadata": {},
     "output_type": "execute_result"
    }
   ],
   "source": [
    "df=pd.DataFrame(scaled_df,columns=[\"Sacled_Age\",\"Sacled_Salary\"])\n",
    "df"
   ]
  },
  {
   "cell_type": "markdown",
   "id": "4e5ba14e",
   "metadata": {},
   "source": [
    "## Application of Z-score or why we need Standardisaton\n",
    "- to bring the data into same scale\n",
    "- to know what precent of data lies less than particular value\n",
    "- how many standard deviation away a given value lies from a population mean\n",
    "- it allows us to get the percentiles which helps to determine the performance of individual with other(in same distribution)\n",
    "- it allows us to calculate the probabilites less than or greater than a particular value\n",
    "- it allows us to compare the individual score in differnet distribution\n",
    "- to detect the outliers"
   ]
  },
  {
   "cell_type": "markdown",
   "id": "f6947026",
   "metadata": {},
   "source": [
    "### how many standard deviation away a given value lies from a population mean"
   ]
  },
  {
   "cell_type": "code",
   "execution_count": 73,
   "id": "326c3be0",
   "metadata": {},
   "outputs": [],
   "source": [
    "## find the std.deviation of 153 form mean or how far 153 from mean in std.deviation?"
   ]
  },
  {
   "cell_type": "code",
   "execution_count": 74,
   "id": "2362e3c5",
   "metadata": {},
   "outputs": [
    {
     "data": {
      "text/plain": [
       "[150, 151, 152, 153, 152, 150, 153, 160, 163]"
      ]
     },
     "execution_count": 74,
     "metadata": {},
     "output_type": "execute_result"
    }
   ],
   "source": [
    "a=[150,151,152,153,152,150,153,160,163]\n",
    "a"
   ]
  },
  {
   "cell_type": "code",
   "execution_count": 75,
   "id": "aa843dca",
   "metadata": {},
   "outputs": [
    {
     "data": {
      "text/plain": [
       "153.77777777777777"
      ]
     },
     "execution_count": 75,
     "metadata": {},
     "output_type": "execute_result"
    }
   ],
   "source": [
    "np.mean(a)"
   ]
  },
  {
   "cell_type": "code",
   "execution_count": 76,
   "id": "9be79cae",
   "metadata": {},
   "outputs": [
    {
     "data": {
      "text/plain": [
       "4.3147750753216885"
      ]
     },
     "execution_count": 76,
     "metadata": {},
     "output_type": "execute_result"
    }
   ],
   "source": [
    "np.std(a)\n"
   ]
  },
  {
   "cell_type": "code",
   "execution_count": 77,
   "id": "0e47d949",
   "metadata": {},
   "outputs": [
    {
     "data": {
      "text/plain": [
       "-0.16279069767441598"
      ]
     },
     "execution_count": 77,
     "metadata": {},
     "output_type": "execute_result"
    }
   ],
   "source": [
    "z=(153-153.7)/4.3\n",
    "z"
   ]
  },
  {
   "cell_type": "markdown",
   "id": "aef40d09",
   "metadata": {},
   "source": [
    "## Find the probabilities using Z-score"
   ]
  },
  {
   "cell_type": "markdown",
   "id": "2b97476e",
   "metadata": {},
   "source": [
    "### suppose we have an population of 60 year old men.The mean bmi is 29 and sd is 6. if a man is randomly selected then what is the probalility that his bmi will be less then 30"
   ]
  },
  {
   "cell_type": "code",
   "execution_count": 78,
   "id": "ef25b231",
   "metadata": {},
   "outputs": [
    {
     "data": {
      "text/plain": [
       "0.16666666666666666"
      ]
     },
     "execution_count": 78,
     "metadata": {},
     "output_type": "execute_result"
    }
   ],
   "source": [
    "z=(30-29)/6\n",
    "z\n",
    "# it means bmi of 30 is 0.16 sd from the mean\n",
    "# ztalbe.net in goggle and find the crossponding value of .16(0.53)"
   ]
  },
  {
   "cell_type": "markdown",
   "id": "d3b70739",
   "metadata": {},
   "source": [
    " ## Find percentiles using Z-score"
   ]
  },
  {
   "cell_type": "markdown",
   "id": "45957f6d",
   "metadata": {},
   "source": [
    "### suppose the scores on a certain entrance exam are roughly normally distributed with a mean of 82 and a sd of 5.if certain student recieved a 90 on the exam.how well he performrd in the exam relatively wtr to others and also tell whether u r in top 10% or not\n"
   ]
  },
  {
   "cell_type": "code",
   "execution_count": 79,
   "id": "0c6d6df5",
   "metadata": {},
   "outputs": [
    {
     "data": {
      "text/plain": [
       "1.6"
      ]
     },
     "execution_count": 79,
     "metadata": {},
     "output_type": "execute_result"
    }
   ],
   "source": [
    "z=(90-82)/5\n",
    "z\n",
    "# ztalbe.net in goggle and find the crossponding value of 1.6(0.95)"
   ]
  },
  {
   "cell_type": "markdown",
   "id": "ebf96a9d",
   "metadata": {},
   "source": [
    "- this means that this student recieved a score that was 1.6 standard deviation above the mean"
   ]
  },
  {
   "cell_type": "code",
   "execution_count": 80,
   "id": "f63c5b0a",
   "metadata": {},
   "outputs": [
    {
     "data": {
      "text/plain": [
       "95.0"
      ]
     },
     "execution_count": 80,
     "metadata": {},
     "output_type": "execute_result"
    }
   ],
   "source": [
    "0.95*100"
   ]
  },
  {
   "cell_type": "markdown",
   "id": "6f110869",
   "metadata": {},
   "source": [
    "- he performed 95% better thaan others"
   ]
  },
  {
   "cell_type": "markdown",
   "id": "b65ac6a9",
   "metadata": {},
   "source": [
    "## analyse certain newborn weight compare to mean weight of all babies\n",
    "### it is well documented that the weight of newborn are normally distributed with a mean about 7.5 ponds and a sd of 0.5 pounds if a certain newborn weughts 7.7 pounds to know how % of babies weight greater than his weight"
   ]
  },
  {
   "cell_type": "code",
   "execution_count": 81,
   "id": "c091a5b1",
   "metadata": {},
   "outputs": [
    {
     "data": {
      "text/plain": [
       "0.40000000000000036"
      ]
     },
     "execution_count": 81,
     "metadata": {},
     "output_type": "execute_result"
    }
   ],
   "source": [
    "z=(7.7-7.5)/.5\n",
    "z"
   ]
  },
  {
   "cell_type": "markdown",
   "id": "526020b8",
   "metadata": {},
   "source": [
    "- this means that baby weight o.4 sd ABOVE the mean\n",
    "- ztalbe.net in goggle and find the crossponding value of 1.6(0.65542)\n"
   ]
  },
  {
   "cell_type": "code",
   "execution_count": 82,
   "id": "80156314",
   "metadata": {},
   "outputs": [
    {
     "data": {
      "text/plain": [
       "0.34458"
      ]
     },
     "execution_count": 82,
     "metadata": {},
     "output_type": "execute_result"
    }
   ],
   "source": [
    "1-.65542\n"
   ]
  },
  {
   "cell_type": "code",
   "execution_count": 83,
   "id": "bfd03dc5",
   "metadata": {},
   "outputs": [
    {
     "data": {
      "text/plain": [
       "34.458"
      ]
     },
     "execution_count": 83,
     "metadata": {},
     "output_type": "execute_result"
    }
   ],
   "source": [
    "0.34458*100"
   ]
  },
  {
   "cell_type": "markdown",
   "id": "d8db1082",
   "metadata": {},
   "source": [
    "- 34.458 % of babies weight greater than his weight"
   ]
  },
  {
   "cell_type": "markdown",
   "id": "829b7dee",
   "metadata": {},
   "source": [
    "### In india the average IQ is 100 with the sd of 15 what % of population would u expect to have IQ lower than 85"
   ]
  },
  {
   "cell_type": "code",
   "execution_count": 84,
   "id": "de6d0fcc",
   "metadata": {},
   "outputs": [
    {
     "data": {
      "text/plain": [
       "-1.0"
      ]
     },
     "execution_count": 84,
     "metadata": {},
     "output_type": "execute_result"
    }
   ],
   "source": [
    "z=(85-100)/15\n",
    "z"
   ]
  },
  {
   "cell_type": "markdown",
   "id": "e2603861",
   "metadata": {},
   "source": [
    "- ztalbe.net in goggle and find the crossponding value of 1.6(0.1586)\n"
   ]
  },
  {
   "cell_type": "code",
   "execution_count": 85,
   "id": "d1e07029",
   "metadata": {},
   "outputs": [
    {
     "data": {
      "text/plain": [
       "15.86"
      ]
     },
     "execution_count": 85,
     "metadata": {},
     "output_type": "execute_result"
    }
   ],
   "source": [
    ".1586*100"
   ]
  },
  {
   "cell_type": "markdown",
   "id": "3d097785",
   "metadata": {},
   "source": [
    "- in India 15.86% population have IQ lower than 85"
   ]
  },
  {
   "cell_type": "markdown",
   "id": "dcf622c7",
   "metadata": {},
   "source": [
    "### The salaries of employees at XYZ corporation follw a normal distribution with a mena 60k and sd7500.Whatr proportion of employee eacrn approx between 69000 and 78000"
   ]
  },
  {
   "cell_type": "code",
   "execution_count": 86,
   "id": "a9b13e8e",
   "metadata": {},
   "outputs": [
    {
     "data": {
      "text/plain": [
       "1.2"
      ]
     },
     "execution_count": 86,
     "metadata": {},
     "output_type": "execute_result"
    }
   ],
   "source": [
    "z1=(69000-60000)/7500\n",
    "z1"
   ]
  },
  {
   "cell_type": "code",
   "execution_count": 87,
   "id": "95203aae",
   "metadata": {},
   "outputs": [
    {
     "data": {
      "text/plain": [
       "2.4"
      ]
     },
     "execution_count": 87,
     "metadata": {},
     "output_type": "execute_result"
    }
   ],
   "source": [
    "z2=(78000-60000)/7500\n",
    "z2"
   ]
  },
  {
   "cell_type": "markdown",
   "id": "32f5327e",
   "metadata": {},
   "source": [
    "- so we are interested in region 1.2<z<2.4 p(1.2<z<2.4)=p(z(2.4)-p(z(1.2)))"
   ]
  },
  {
   "cell_type": "code",
   "execution_count": 88,
   "id": "bdd7960c",
   "metadata": {},
   "outputs": [
    {
     "data": {
      "text/plain": [
       "0.1069"
      ]
     },
     "execution_count": 88,
     "metadata": {},
     "output_type": "execute_result"
    }
   ],
   "source": [
    "#p(z(2.4))=0.9918 from z talbe\n",
    "#p(z(1.2))=0.8849\n",
    "#so\n",
    "0.9918-0.8849"
   ]
  },
  {
   "cell_type": "code",
   "execution_count": 89,
   "id": "e8fe2914",
   "metadata": {},
   "outputs": [
    {
     "data": {
      "text/plain": [
       "10.69"
      ]
     },
     "execution_count": 89,
     "metadata": {},
     "output_type": "execute_result"
    }
   ],
   "source": [
    "0.1069*100"
   ]
  },
  {
   "cell_type": "markdown",
   "id": "1e9202d6",
   "metadata": {},
   "source": [
    "- so around 10% of employees salaries lies in this region"
   ]
  },
  {
   "cell_type": "markdown",
   "id": "eda8e6bf",
   "metadata": {},
   "source": [
    "## Comparing in different distribution"
   ]
  },
  {
   "cell_type": "markdown",
   "id": "56fa694a",
   "metadata": {},
   "source": [
    "### A student participated in two quizzes. in the first quiz he scored 80 and in other he scored 75.The mean and standard deviation of first quiz  are 70 and 15 respectively. while th mean and standard deviation of second quiz is 54 and 12 respectively.the results follow the noraml distributed. in which quiz he performed better\n",
    "\n"
   ]
  },
  {
   "cell_type": "code",
   "execution_count": 90,
   "id": "5a105510",
   "metadata": {},
   "outputs": [
    {
     "data": {
      "text/plain": [
       "0.6666666666666666"
      ]
     },
     "execution_count": 90,
     "metadata": {},
     "output_type": "execute_result"
    }
   ],
   "source": [
    "z1=(80-70)/15\n",
    "z1"
   ]
  },
  {
   "cell_type": "markdown",
   "id": "1d2373cd",
   "metadata": {},
   "source": [
    "- p value 0.7437 at 0.66 means he performed 74.5% better than others"
   ]
  },
  {
   "cell_type": "code",
   "execution_count": 91,
   "id": "b0bc4277",
   "metadata": {},
   "outputs": [
    {
     "data": {
      "text/plain": [
       "1.75"
      ]
     },
     "execution_count": 91,
     "metadata": {},
     "output_type": "execute_result"
    }
   ],
   "source": [
    "z2=(75-54)/12\n",
    "z2"
   ]
  },
  {
   "cell_type": "markdown",
   "id": "42295536",
   "metadata": {},
   "source": [
    "- p value 0.95994 at 1.75 means he performed 95.99% better than others\n",
    "- so in 2nd quiz he performed well"
   ]
  },
  {
   "cell_type": "markdown",
   "id": "8347ece6",
   "metadata": {},
   "source": [
    "## Covariance And Corelation"
   ]
  },
  {
   "cell_type": "markdown",
   "id": "329645a6",
   "metadata": {},
   "source": [
    "### Covariance"
   ]
  },
  {
   "cell_type": "code",
   "execution_count": 92,
   "id": "67135e10",
   "metadata": {},
   "outputs": [
    {
     "data": {
      "text/html": [
       "<div>\n",
       "<style scoped>\n",
       "    .dataframe tbody tr th:only-of-type {\n",
       "        vertical-align: middle;\n",
       "    }\n",
       "\n",
       "    .dataframe tbody tr th {\n",
       "        vertical-align: top;\n",
       "    }\n",
       "\n",
       "    .dataframe thead th {\n",
       "        text-align: right;\n",
       "    }\n",
       "</style>\n",
       "<table border=\"1\" class=\"dataframe\">\n",
       "  <thead>\n",
       "    <tr style=\"text-align: right;\">\n",
       "      <th></th>\n",
       "      <th>temp</th>\n",
       "      <th>no_Custumer</th>\n",
       "    </tr>\n",
       "  </thead>\n",
       "  <tbody>\n",
       "    <tr>\n",
       "      <th>0</th>\n",
       "      <td>98</td>\n",
       "      <td>15</td>\n",
       "    </tr>\n",
       "    <tr>\n",
       "      <th>1</th>\n",
       "      <td>87</td>\n",
       "      <td>12</td>\n",
       "    </tr>\n",
       "    <tr>\n",
       "      <th>2</th>\n",
       "      <td>90</td>\n",
       "      <td>10</td>\n",
       "    </tr>\n",
       "    <tr>\n",
       "      <th>3</th>\n",
       "      <td>85</td>\n",
       "      <td>10</td>\n",
       "    </tr>\n",
       "    <tr>\n",
       "      <th>4</th>\n",
       "      <td>95</td>\n",
       "      <td>16</td>\n",
       "    </tr>\n",
       "    <tr>\n",
       "      <th>5</th>\n",
       "      <td>75</td>\n",
       "      <td>7</td>\n",
       "    </tr>\n",
       "  </tbody>\n",
       "</table>\n",
       "</div>"
      ],
      "text/plain": [
       "   temp  no_Custumer\n",
       "0    98           15\n",
       "1    87           12\n",
       "2    90           10\n",
       "3    85           10\n",
       "4    95           16\n",
       "5    75            7"
      ]
     },
     "execution_count": 92,
     "metadata": {},
     "output_type": "execute_result"
    }
   ],
   "source": [
    "df=pd.DataFrame({\"temp\":[98,87,90,85,95,75],\"no_Custumer\":[15,12,10,10,16,7]})\n",
    "df"
   ]
  },
  {
   "cell_type": "code",
   "execution_count": 93,
   "id": "e241c3ed",
   "metadata": {},
   "outputs": [
    {
     "data": {
      "text/html": [
       "<div>\n",
       "<style scoped>\n",
       "    .dataframe tbody tr th:only-of-type {\n",
       "        vertical-align: middle;\n",
       "    }\n",
       "\n",
       "    .dataframe tbody tr th {\n",
       "        vertical-align: top;\n",
       "    }\n",
       "\n",
       "    .dataframe thead th {\n",
       "        text-align: right;\n",
       "    }\n",
       "</style>\n",
       "<table border=\"1\" class=\"dataframe\">\n",
       "  <thead>\n",
       "    <tr style=\"text-align: right;\">\n",
       "      <th></th>\n",
       "      <th>temp</th>\n",
       "      <th>no_Custumer</th>\n",
       "      <th>temp-mean_temp</th>\n",
       "    </tr>\n",
       "  </thead>\n",
       "  <tbody>\n",
       "    <tr>\n",
       "      <th>0</th>\n",
       "      <td>98</td>\n",
       "      <td>15</td>\n",
       "      <td>9.666667</td>\n",
       "    </tr>\n",
       "    <tr>\n",
       "      <th>1</th>\n",
       "      <td>87</td>\n",
       "      <td>12</td>\n",
       "      <td>-1.333333</td>\n",
       "    </tr>\n",
       "    <tr>\n",
       "      <th>2</th>\n",
       "      <td>90</td>\n",
       "      <td>10</td>\n",
       "      <td>1.666667</td>\n",
       "    </tr>\n",
       "    <tr>\n",
       "      <th>3</th>\n",
       "      <td>85</td>\n",
       "      <td>10</td>\n",
       "      <td>-3.333333</td>\n",
       "    </tr>\n",
       "    <tr>\n",
       "      <th>4</th>\n",
       "      <td>95</td>\n",
       "      <td>16</td>\n",
       "      <td>6.666667</td>\n",
       "    </tr>\n",
       "    <tr>\n",
       "      <th>5</th>\n",
       "      <td>75</td>\n",
       "      <td>7</td>\n",
       "      <td>-13.333333</td>\n",
       "    </tr>\n",
       "  </tbody>\n",
       "</table>\n",
       "</div>"
      ],
      "text/plain": [
       "   temp  no_Custumer  temp-mean_temp\n",
       "0    98           15        9.666667\n",
       "1    87           12       -1.333333\n",
       "2    90           10        1.666667\n",
       "3    85           10       -3.333333\n",
       "4    95           16        6.666667\n",
       "5    75            7      -13.333333"
      ]
     },
     "execution_count": 93,
     "metadata": {},
     "output_type": "execute_result"
    }
   ],
   "source": [
    "df[\"temp-mean_temp\"]=df[\"temp\"]-df[\"temp\"].mean()\n",
    "df"
   ]
  },
  {
   "cell_type": "code",
   "execution_count": 94,
   "id": "33879252",
   "metadata": {},
   "outputs": [
    {
     "data": {
      "text/html": [
       "<div>\n",
       "<style scoped>\n",
       "    .dataframe tbody tr th:only-of-type {\n",
       "        vertical-align: middle;\n",
       "    }\n",
       "\n",
       "    .dataframe tbody tr th {\n",
       "        vertical-align: top;\n",
       "    }\n",
       "\n",
       "    .dataframe thead th {\n",
       "        text-align: right;\n",
       "    }\n",
       "</style>\n",
       "<table border=\"1\" class=\"dataframe\">\n",
       "  <thead>\n",
       "    <tr style=\"text-align: right;\">\n",
       "      <th></th>\n",
       "      <th>temp</th>\n",
       "      <th>no_Custumer</th>\n",
       "      <th>temp-mean_temp</th>\n",
       "      <th>no_Custumer-mean_no_Custumer</th>\n",
       "    </tr>\n",
       "  </thead>\n",
       "  <tbody>\n",
       "    <tr>\n",
       "      <th>0</th>\n",
       "      <td>98</td>\n",
       "      <td>15</td>\n",
       "      <td>9.666667</td>\n",
       "      <td>3.333333</td>\n",
       "    </tr>\n",
       "    <tr>\n",
       "      <th>1</th>\n",
       "      <td>87</td>\n",
       "      <td>12</td>\n",
       "      <td>-1.333333</td>\n",
       "      <td>0.333333</td>\n",
       "    </tr>\n",
       "    <tr>\n",
       "      <th>2</th>\n",
       "      <td>90</td>\n",
       "      <td>10</td>\n",
       "      <td>1.666667</td>\n",
       "      <td>-1.666667</td>\n",
       "    </tr>\n",
       "    <tr>\n",
       "      <th>3</th>\n",
       "      <td>85</td>\n",
       "      <td>10</td>\n",
       "      <td>-3.333333</td>\n",
       "      <td>-1.666667</td>\n",
       "    </tr>\n",
       "    <tr>\n",
       "      <th>4</th>\n",
       "      <td>95</td>\n",
       "      <td>16</td>\n",
       "      <td>6.666667</td>\n",
       "      <td>4.333333</td>\n",
       "    </tr>\n",
       "    <tr>\n",
       "      <th>5</th>\n",
       "      <td>75</td>\n",
       "      <td>7</td>\n",
       "      <td>-13.333333</td>\n",
       "      <td>-4.666667</td>\n",
       "    </tr>\n",
       "  </tbody>\n",
       "</table>\n",
       "</div>"
      ],
      "text/plain": [
       "   temp  no_Custumer  temp-mean_temp  no_Custumer-mean_no_Custumer\n",
       "0    98           15        9.666667                      3.333333\n",
       "1    87           12       -1.333333                      0.333333\n",
       "2    90           10        1.666667                     -1.666667\n",
       "3    85           10       -3.333333                     -1.666667\n",
       "4    95           16        6.666667                      4.333333\n",
       "5    75            7      -13.333333                     -4.666667"
      ]
     },
     "execution_count": 94,
     "metadata": {},
     "output_type": "execute_result"
    }
   ],
   "source": [
    "df[\"no_Custumer-mean_no_Custumer\"]=df[\"no_Custumer\"]-df[\"no_Custumer\"].mean()\n",
    "df"
   ]
  },
  {
   "cell_type": "code",
   "execution_count": 95,
   "id": "98a5ff4c",
   "metadata": {},
   "outputs": [
    {
     "data": {
      "text/html": [
       "<div>\n",
       "<style scoped>\n",
       "    .dataframe tbody tr th:only-of-type {\n",
       "        vertical-align: middle;\n",
       "    }\n",
       "\n",
       "    .dataframe tbody tr th {\n",
       "        vertical-align: top;\n",
       "    }\n",
       "\n",
       "    .dataframe thead th {\n",
       "        text-align: right;\n",
       "    }\n",
       "</style>\n",
       "<table border=\"1\" class=\"dataframe\">\n",
       "  <thead>\n",
       "    <tr style=\"text-align: right;\">\n",
       "      <th></th>\n",
       "      <th>temp</th>\n",
       "      <th>no_Custumer</th>\n",
       "      <th>temp-mean_temp</th>\n",
       "      <th>no_Custumer-mean_no_Custumer</th>\n",
       "      <th>multiply</th>\n",
       "    </tr>\n",
       "  </thead>\n",
       "  <tbody>\n",
       "    <tr>\n",
       "      <th>0</th>\n",
       "      <td>98</td>\n",
       "      <td>15</td>\n",
       "      <td>9.666667</td>\n",
       "      <td>3.333333</td>\n",
       "      <td>32.222222</td>\n",
       "    </tr>\n",
       "    <tr>\n",
       "      <th>1</th>\n",
       "      <td>87</td>\n",
       "      <td>12</td>\n",
       "      <td>-1.333333</td>\n",
       "      <td>0.333333</td>\n",
       "      <td>-0.444444</td>\n",
       "    </tr>\n",
       "    <tr>\n",
       "      <th>2</th>\n",
       "      <td>90</td>\n",
       "      <td>10</td>\n",
       "      <td>1.666667</td>\n",
       "      <td>-1.666667</td>\n",
       "      <td>-2.777778</td>\n",
       "    </tr>\n",
       "    <tr>\n",
       "      <th>3</th>\n",
       "      <td>85</td>\n",
       "      <td>10</td>\n",
       "      <td>-3.333333</td>\n",
       "      <td>-1.666667</td>\n",
       "      <td>5.555556</td>\n",
       "    </tr>\n",
       "    <tr>\n",
       "      <th>4</th>\n",
       "      <td>95</td>\n",
       "      <td>16</td>\n",
       "      <td>6.666667</td>\n",
       "      <td>4.333333</td>\n",
       "      <td>28.888889</td>\n",
       "    </tr>\n",
       "    <tr>\n",
       "      <th>5</th>\n",
       "      <td>75</td>\n",
       "      <td>7</td>\n",
       "      <td>-13.333333</td>\n",
       "      <td>-4.666667</td>\n",
       "      <td>62.222222</td>\n",
       "    </tr>\n",
       "  </tbody>\n",
       "</table>\n",
       "</div>"
      ],
      "text/plain": [
       "   temp  no_Custumer  temp-mean_temp  no_Custumer-mean_no_Custumer   multiply\n",
       "0    98           15        9.666667                      3.333333  32.222222\n",
       "1    87           12       -1.333333                      0.333333  -0.444444\n",
       "2    90           10        1.666667                     -1.666667  -2.777778\n",
       "3    85           10       -3.333333                     -1.666667   5.555556\n",
       "4    95           16        6.666667                      4.333333  28.888889\n",
       "5    75            7      -13.333333                     -4.666667  62.222222"
      ]
     },
     "execution_count": 95,
     "metadata": {},
     "output_type": "execute_result"
    }
   ],
   "source": [
    "df[\"multiply\"]=df[\"temp-mean_temp\"]*df[\"no_Custumer-mean_no_Custumer\"]\n",
    "df"
   ]
  },
  {
   "cell_type": "code",
   "execution_count": 96,
   "id": "8a9b700b",
   "metadata": {},
   "outputs": [
    {
     "data": {
      "text/plain": [
       "125.66666666666666"
      ]
     },
     "execution_count": 96,
     "metadata": {},
     "output_type": "execute_result"
    }
   ],
   "source": [
    "df[\"multiply\"].sum()"
   ]
  },
  {
   "cell_type": "code",
   "execution_count": 97,
   "id": "bc176218",
   "metadata": {},
   "outputs": [
    {
     "data": {
      "text/plain": [
       "20.944444444444443"
      ]
     },
     "execution_count": 97,
     "metadata": {},
     "output_type": "execute_result"
    }
   ],
   "source": [
    "df[\"multiply\"].sum()/6"
   ]
  },
  {
   "cell_type": "markdown",
   "id": "c697fcb6",
   "metadata": {},
   "source": [
    "- here positive covariance between temp and no_customer columns"
   ]
  },
  {
   "cell_type": "code",
   "execution_count": 98,
   "id": "ca762a8c",
   "metadata": {},
   "outputs": [
    {
     "data": {
      "text/html": [
       "<div>\n",
       "<style scoped>\n",
       "    .dataframe tbody tr th:only-of-type {\n",
       "        vertical-align: middle;\n",
       "    }\n",
       "\n",
       "    .dataframe tbody tr th {\n",
       "        vertical-align: top;\n",
       "    }\n",
       "\n",
       "    .dataframe thead th {\n",
       "        text-align: right;\n",
       "    }\n",
       "</style>\n",
       "<table border=\"1\" class=\"dataframe\">\n",
       "  <thead>\n",
       "    <tr style=\"text-align: right;\">\n",
       "      <th></th>\n",
       "      <th>size_cm</th>\n",
       "      <th>size_ft</th>\n",
       "      <th>price</th>\n",
       "    </tr>\n",
       "  </thead>\n",
       "  <tbody>\n",
       "    <tr>\n",
       "      <th>0</th>\n",
       "      <td>650</td>\n",
       "      <td>19812</td>\n",
       "      <td>77200</td>\n",
       "    </tr>\n",
       "    <tr>\n",
       "      <th>1</th>\n",
       "      <td>785</td>\n",
       "      <td>23926</td>\n",
       "      <td>998000</td>\n",
       "    </tr>\n",
       "    <tr>\n",
       "      <th>2</th>\n",
       "      <td>1200</td>\n",
       "      <td>36576</td>\n",
       "      <td>1200000</td>\n",
       "    </tr>\n",
       "    <tr>\n",
       "      <th>3</th>\n",
       "      <td>720</td>\n",
       "      <td>21945</td>\n",
       "      <td>800000</td>\n",
       "    </tr>\n",
       "    <tr>\n",
       "      <th>4</th>\n",
       "      <td>975</td>\n",
       "      <td>29718</td>\n",
       "      <td>895000</td>\n",
       "    </tr>\n",
       "  </tbody>\n",
       "</table>\n",
       "</div>"
      ],
      "text/plain": [
       "   size_cm  size_ft    price\n",
       "0      650    19812    77200\n",
       "1      785    23926   998000\n",
       "2     1200    36576  1200000\n",
       "3      720    21945   800000\n",
       "4      975    29718   895000"
      ]
     },
     "execution_count": 98,
     "metadata": {},
     "output_type": "execute_result"
    }
   ],
   "source": [
    "l=[[650,19812,77200],[785,23926,998000],[1200,36576,1200000],[720,21945,800000],[975,29718,895000]]\n",
    "df=pd.DataFrame(l,columns=[\"size_cm\",\"size_ft\",\"price\"])\n",
    "df\n",
    "\n",
    "\n"
   ]
  },
  {
   "cell_type": "markdown",
   "id": "8328939b",
   "metadata": {},
   "source": [
    "## Covariance\n",
    "- it depends on  unit \n",
    "- does not meausres the strength of relation"
   ]
  },
  {
   "cell_type": "code",
   "execution_count": 99,
   "id": "5bdac841",
   "metadata": {},
   "outputs": [
    {
     "data": {
      "text/html": [
       "<div>\n",
       "<style scoped>\n",
       "    .dataframe tbody tr th:only-of-type {\n",
       "        vertical-align: middle;\n",
       "    }\n",
       "\n",
       "    .dataframe tbody tr th {\n",
       "        vertical-align: top;\n",
       "    }\n",
       "\n",
       "    .dataframe thead th {\n",
       "        text-align: right;\n",
       "    }\n",
       "</style>\n",
       "<table border=\"1\" class=\"dataframe\">\n",
       "  <thead>\n",
       "    <tr style=\"text-align: right;\">\n",
       "      <th></th>\n",
       "      <th>size_cm</th>\n",
       "      <th>size_ft</th>\n",
       "      <th>price</th>\n",
       "    </tr>\n",
       "  </thead>\n",
       "  <tbody>\n",
       "    <tr>\n",
       "      <th>size_cm</th>\n",
       "      <td>49492.5</td>\n",
       "      <td>1.508570e+06</td>\n",
       "      <td>7.101045e+07</td>\n",
       "    </tr>\n",
       "    <tr>\n",
       "      <th>size_ft</th>\n",
       "      <td>1508569.5</td>\n",
       "      <td>4.598236e+07</td>\n",
       "      <td>2.164357e+09</td>\n",
       "    </tr>\n",
       "    <tr>\n",
       "      <th>price</th>\n",
       "      <td>71010450.0</td>\n",
       "      <td>2.164357e+09</td>\n",
       "      <td>1.826228e+11</td>\n",
       "    </tr>\n",
       "  </tbody>\n",
       "</table>\n",
       "</div>"
      ],
      "text/plain": [
       "            size_cm       size_ft         price\n",
       "size_cm     49492.5  1.508570e+06  7.101045e+07\n",
       "size_ft   1508569.5  4.598236e+07  2.164357e+09\n",
       "price    71010450.0  2.164357e+09  1.826228e+11"
      ]
     },
     "execution_count": 99,
     "metadata": {},
     "output_type": "execute_result"
    }
   ],
   "source": [
    "df.cov()"
   ]
  },
  {
   "cell_type": "markdown",
   "id": "adcb9cd4",
   "metadata": {},
   "source": [
    "## Corelation\n",
    "- it is unit less \n",
    "- And also meausres the strength of relation"
   ]
  },
  {
   "cell_type": "code",
   "execution_count": 100,
   "id": "bfe41a06",
   "metadata": {},
   "outputs": [
    {
     "data": {
      "text/html": [
       "<div>\n",
       "<style scoped>\n",
       "    .dataframe tbody tr th:only-of-type {\n",
       "        vertical-align: middle;\n",
       "    }\n",
       "\n",
       "    .dataframe tbody tr th {\n",
       "        vertical-align: top;\n",
       "    }\n",
       "\n",
       "    .dataframe thead th {\n",
       "        text-align: right;\n",
       "    }\n",
       "</style>\n",
       "<table border=\"1\" class=\"dataframe\">\n",
       "  <thead>\n",
       "    <tr style=\"text-align: right;\">\n",
       "      <th></th>\n",
       "      <th>size_cm</th>\n",
       "      <th>size_ft</th>\n",
       "      <th>price</th>\n",
       "    </tr>\n",
       "  </thead>\n",
       "  <tbody>\n",
       "    <tr>\n",
       "      <th>size_cm</th>\n",
       "      <td>1.000000</td>\n",
       "      <td>1.000000</td>\n",
       "      <td>0.746922</td>\n",
       "    </tr>\n",
       "    <tr>\n",
       "      <th>size_ft</th>\n",
       "      <td>1.000000</td>\n",
       "      <td>1.000000</td>\n",
       "      <td>0.746888</td>\n",
       "    </tr>\n",
       "    <tr>\n",
       "      <th>price</th>\n",
       "      <td>0.746922</td>\n",
       "      <td>0.746888</td>\n",
       "      <td>1.000000</td>\n",
       "    </tr>\n",
       "  </tbody>\n",
       "</table>\n",
       "</div>"
      ],
      "text/plain": [
       "          size_cm   size_ft     price\n",
       "size_cm  1.000000  1.000000  0.746922\n",
       "size_ft  1.000000  1.000000  0.746888\n",
       "price    0.746922  0.746888  1.000000"
      ]
     },
     "execution_count": 100,
     "metadata": {},
     "output_type": "execute_result"
    }
   ],
   "source": [
    "df.corr()"
   ]
  },
  {
   "cell_type": "code",
   "execution_count": 101,
   "id": "c00467f7",
   "metadata": {},
   "outputs": [
    {
     "data": {
      "image/png": "[encoded data removed]",
      "text/plain": [
       "<Figure size 432x288 with 2 Axes>"
      ]
     },
     "metadata": {
      "needs_background": "light"
     },
     "output_type": "display_data"
    }
   ],
   "source": [
    "sns.heatmap(df.corr(),annot=True);"
   ]
  },
  {
   "cell_type": "markdown",
   "id": "fabd52b6",
   "metadata": {},
   "source": [
    "## Probability"
   ]
  },
  {
   "cell_type": "markdown",
   "id": "ba77236b",
   "metadata": {},
   "source": [
    "- it is a chance of occurance \n",
    "### random variable- set of all possible values outcomes of particular event\n",
    "- 1 discrete(countable)\n",
    "- 2 continous (non-countable)"
   ]
  },
  {
   "cell_type": "markdown",
   "id": "d49c239f",
   "metadata": {},
   "source": [
    "### mutually exclusive event\n",
    "- two or more events can not occur simultaneously. it is not possible to get 5 and 4 on single roll dice.\n",
    "eg: the probability of getteing either 2 or 3 when we roll a dice.\n",
    "- \n",
    "p(a union b )=p(a)+p(b)= 1/6+1/6\n",
    "\n",
    "\n",
    "here p(a intersection b) is 0\n",
    "## non-mutual exclusive:\n",
    "let A be the event as student plays hockey and B be the event  that student plays cricket. so there is achances that student plays both so its not mutully exclusive.\n",
    "\n",
    "\n",
    "out of 50 students in the class. 30 students play hockey . 25 students play cricket and 15 students play both.What is the probability of selected student plays either hockey or cricket.\n",
    "\n",
    "\n",
    "p(A Union B)=p(A)+p(B)-p(A intersection B)\n"
   ]
  },
  {
   "cell_type": "markdown",
   "id": "27ea0f9c",
   "metadata": {},
   "source": [
    "## Probability Distribution\n",
    "- if prob dist is of continous random varibale it is called PDF(probability density function)or(probability distribution function)\n",
    "- if prob dist is of decrete random varibale it is called PMF(probability mass function)\n",
    "## CDF(cummulative Distribution Function)\n"
   ]
  },
  {
   "cell_type": "markdown",
   "id": "097902a8",
   "metadata": {},
   "source": [
    "## PMF - probability of discrete random varibale"
   ]
  },
  {
   "cell_type": "code",
   "execution_count": 102,
   "id": "f2b725a5",
   "metadata": {},
   "outputs": [
    {
     "data": {
      "text/html": [
       "<div>\n",
       "<style scoped>\n",
       "    .dataframe tbody tr th:only-of-type {\n",
       "        vertical-align: middle;\n",
       "    }\n",
       "\n",
       "    .dataframe tbody tr th {\n",
       "        vertical-align: top;\n",
       "    }\n",
       "\n",
       "    .dataframe thead th {\n",
       "        text-align: right;\n",
       "    }\n",
       "</style>\n",
       "<table border=\"1\" class=\"dataframe\">\n",
       "  <thead>\n",
       "    <tr style=\"text-align: right;\">\n",
       "      <th></th>\n",
       "      <th>Dice</th>\n",
       "    </tr>\n",
       "  </thead>\n",
       "  <tbody>\n",
       "    <tr>\n",
       "      <th>0</th>\n",
       "      <td>1</td>\n",
       "    </tr>\n",
       "    <tr>\n",
       "      <th>1</th>\n",
       "      <td>2</td>\n",
       "    </tr>\n",
       "    <tr>\n",
       "      <th>2</th>\n",
       "      <td>3</td>\n",
       "    </tr>\n",
       "    <tr>\n",
       "      <th>3</th>\n",
       "      <td>4</td>\n",
       "    </tr>\n",
       "    <tr>\n",
       "      <th>4</th>\n",
       "      <td>5</td>\n",
       "    </tr>\n",
       "    <tr>\n",
       "      <th>5</th>\n",
       "      <td>6</td>\n",
       "    </tr>\n",
       "  </tbody>\n",
       "</table>\n",
       "</div>"
      ],
      "text/plain": [
       "   Dice\n",
       "0     1\n",
       "1     2\n",
       "2     3\n",
       "3     4\n",
       "4     5\n",
       "5     6"
      ]
     },
     "execution_count": 102,
     "metadata": {},
     "output_type": "execute_result"
    }
   ],
   "source": [
    "l=[1,2,3,4,5,6]\n",
    "df=pd.DataFrame(l,columns=[\"Dice\"])\n",
    "df"
   ]
  },
  {
   "cell_type": "code",
   "execution_count": 103,
   "id": "6531fbba",
   "metadata": {},
   "outputs": [
    {
     "data": {
      "text/html": [
       "<div>\n",
       "<style scoped>\n",
       "    .dataframe tbody tr th:only-of-type {\n",
       "        vertical-align: middle;\n",
       "    }\n",
       "\n",
       "    .dataframe tbody tr th {\n",
       "        vertical-align: top;\n",
       "    }\n",
       "\n",
       "    .dataframe thead th {\n",
       "        text-align: right;\n",
       "    }\n",
       "</style>\n",
       "<table border=\"1\" class=\"dataframe\">\n",
       "  <thead>\n",
       "    <tr style=\"text-align: right;\">\n",
       "      <th></th>\n",
       "      <th>index</th>\n",
       "      <th>Dice</th>\n",
       "    </tr>\n",
       "  </thead>\n",
       "  <tbody>\n",
       "    <tr>\n",
       "      <th>0</th>\n",
       "      <td>1</td>\n",
       "      <td>0.166667</td>\n",
       "    </tr>\n",
       "    <tr>\n",
       "      <th>1</th>\n",
       "      <td>2</td>\n",
       "      <td>0.166667</td>\n",
       "    </tr>\n",
       "    <tr>\n",
       "      <th>2</th>\n",
       "      <td>3</td>\n",
       "      <td>0.166667</td>\n",
       "    </tr>\n",
       "    <tr>\n",
       "      <th>3</th>\n",
       "      <td>4</td>\n",
       "      <td>0.166667</td>\n",
       "    </tr>\n",
       "    <tr>\n",
       "      <th>4</th>\n",
       "      <td>5</td>\n",
       "      <td>0.166667</td>\n",
       "    </tr>\n",
       "    <tr>\n",
       "      <th>5</th>\n",
       "      <td>6</td>\n",
       "      <td>0.166667</td>\n",
       "    </tr>\n",
       "  </tbody>\n",
       "</table>\n",
       "</div>"
      ],
      "text/plain": [
       "   index      Dice\n",
       "0      1  0.166667\n",
       "1      2  0.166667\n",
       "2      3  0.166667\n",
       "3      4  0.166667\n",
       "4      5  0.166667\n",
       "5      6  0.166667"
      ]
     },
     "execution_count": 103,
     "metadata": {},
     "output_type": "execute_result"
    }
   ],
   "source": [
    "prob=df[\"Dice\"].value_counts(normalize=True)\n",
    "x=prob.reset_index()\n",
    "x"
   ]
  },
  {
   "cell_type": "code",
   "execution_count": 104,
   "id": "01fdd480",
   "metadata": {},
   "outputs": [
    {
     "data": {
      "text/html": [
       "<div>\n",
       "<style scoped>\n",
       "    .dataframe tbody tr th:only-of-type {\n",
       "        vertical-align: middle;\n",
       "    }\n",
       "\n",
       "    .dataframe tbody tr th {\n",
       "        vertical-align: top;\n",
       "    }\n",
       "\n",
       "    .dataframe thead th {\n",
       "        text-align: right;\n",
       "    }\n",
       "</style>\n",
       "<table border=\"1\" class=\"dataframe\">\n",
       "  <thead>\n",
       "    <tr style=\"text-align: right;\">\n",
       "      <th></th>\n",
       "      <th>dice</th>\n",
       "      <th>prob</th>\n",
       "    </tr>\n",
       "  </thead>\n",
       "  <tbody>\n",
       "    <tr>\n",
       "      <th>0</th>\n",
       "      <td>1</td>\n",
       "      <td>0.166667</td>\n",
       "    </tr>\n",
       "    <tr>\n",
       "      <th>1</th>\n",
       "      <td>2</td>\n",
       "      <td>0.166667</td>\n",
       "    </tr>\n",
       "    <tr>\n",
       "      <th>2</th>\n",
       "      <td>3</td>\n",
       "      <td>0.166667</td>\n",
       "    </tr>\n",
       "    <tr>\n",
       "      <th>3</th>\n",
       "      <td>4</td>\n",
       "      <td>0.166667</td>\n",
       "    </tr>\n",
       "    <tr>\n",
       "      <th>4</th>\n",
       "      <td>5</td>\n",
       "      <td>0.166667</td>\n",
       "    </tr>\n",
       "    <tr>\n",
       "      <th>5</th>\n",
       "      <td>6</td>\n",
       "      <td>0.166667</td>\n",
       "    </tr>\n",
       "  </tbody>\n",
       "</table>\n",
       "</div>"
      ],
      "text/plain": [
       "   dice      prob\n",
       "0     1  0.166667\n",
       "1     2  0.166667\n",
       "2     3  0.166667\n",
       "3     4  0.166667\n",
       "4     5  0.166667\n",
       "5     6  0.166667"
      ]
     },
     "execution_count": 104,
     "metadata": {},
     "output_type": "execute_result"
    }
   ],
   "source": [
    "x.rename(columns={\"index\":\"dice\",\"Dice\":\"prob\"},inplace=True)\n",
    "x"
   ]
  },
  {
   "cell_type": "markdown",
   "id": "86ac5a55",
   "metadata": {},
   "source": [
    "## PMF(probability mass function)"
   ]
  },
  {
   "cell_type": "code",
   "execution_count": 105,
   "id": "960256c7",
   "metadata": {},
   "outputs": [
    {
     "data": {
      "image/png": "[encoded data removed]",
      "text/plain": [
       "<Figure size 432x288 with 1 Axes>"
      ]
     },
     "metadata": {
      "needs_background": "light"
     },
     "output_type": "display_data"
    }
   ],
   "source": [
    "plt.bar(x[\"dice\"],x[\"prob\"]);"
   ]
  },
  {
   "cell_type": "code",
   "execution_count": 106,
   "id": "d22c1219",
   "metadata": {},
   "outputs": [
    {
     "data": {
      "text/html": [
       "<div>\n",
       "<style scoped>\n",
       "    .dataframe tbody tr th:only-of-type {\n",
       "        vertical-align: middle;\n",
       "    }\n",
       "\n",
       "    .dataframe tbody tr th {\n",
       "        vertical-align: top;\n",
       "    }\n",
       "\n",
       "    .dataframe thead th {\n",
       "        text-align: right;\n",
       "    }\n",
       "</style>\n",
       "<table border=\"1\" class=\"dataframe\">\n",
       "  <thead>\n",
       "    <tr style=\"text-align: right;\">\n",
       "      <th></th>\n",
       "      <th>dice</th>\n",
       "      <th>prob</th>\n",
       "      <th>cdf</th>\n",
       "    </tr>\n",
       "  </thead>\n",
       "  <tbody>\n",
       "    <tr>\n",
       "      <th>0</th>\n",
       "      <td>1</td>\n",
       "      <td>0.166667</td>\n",
       "      <td>0.166667</td>\n",
       "    </tr>\n",
       "    <tr>\n",
       "      <th>1</th>\n",
       "      <td>2</td>\n",
       "      <td>0.166667</td>\n",
       "      <td>0.333333</td>\n",
       "    </tr>\n",
       "    <tr>\n",
       "      <th>2</th>\n",
       "      <td>3</td>\n",
       "      <td>0.166667</td>\n",
       "      <td>0.500000</td>\n",
       "    </tr>\n",
       "    <tr>\n",
       "      <th>3</th>\n",
       "      <td>4</td>\n",
       "      <td>0.166667</td>\n",
       "      <td>0.666667</td>\n",
       "    </tr>\n",
       "    <tr>\n",
       "      <th>4</th>\n",
       "      <td>5</td>\n",
       "      <td>0.166667</td>\n",
       "      <td>0.833333</td>\n",
       "    </tr>\n",
       "    <tr>\n",
       "      <th>5</th>\n",
       "      <td>6</td>\n",
       "      <td>0.166667</td>\n",
       "      <td>1.000000</td>\n",
       "    </tr>\n",
       "  </tbody>\n",
       "</table>\n",
       "</div>"
      ],
      "text/plain": [
       "   dice      prob       cdf\n",
       "0     1  0.166667  0.166667\n",
       "1     2  0.166667  0.333333\n",
       "2     3  0.166667  0.500000\n",
       "3     4  0.166667  0.666667\n",
       "4     5  0.166667  0.833333\n",
       "5     6  0.166667  1.000000"
      ]
     },
     "execution_count": 106,
     "metadata": {},
     "output_type": "execute_result"
    }
   ],
   "source": [
    "x[\"cdf\"]=np.cumsum(x[\"prob\"])\n",
    "x"
   ]
  },
  {
   "cell_type": "markdown",
   "id": "829ecb06",
   "metadata": {},
   "source": [
    "## CDF(cummulative Distribution Function)"
   ]
  },
  {
   "cell_type": "code",
   "execution_count": 107,
   "id": "bcdeb525",
   "metadata": {},
   "outputs": [
    {
     "data": {
      "image/png": "[encoded data removed]",
      "text/plain": [
       "<Figure size 432x288 with 1 Axes>"
      ]
     },
     "metadata": {
      "needs_background": "light"
     },
     "output_type": "display_data"
    }
   ],
   "source": [
    "plt.bar(x[\"dice\"],x[\"cdf\"]);"
   ]
  },
  {
   "cell_type": "markdown",
   "id": "8f362912",
   "metadata": {},
   "source": [
    "## PDF(probability density/distribution function)\n",
    "- in this we have to considered area and calculate z-score"
   ]
  },
  {
   "cell_type": "code",
   "execution_count": 108,
   "id": "8ddad746",
   "metadata": {},
   "outputs": [
    {
     "data": {
      "text/html": [
       "<div>\n",
       "<style scoped>\n",
       "    .dataframe tbody tr th:only-of-type {\n",
       "        vertical-align: middle;\n",
       "    }\n",
       "\n",
       "    .dataframe tbody tr th {\n",
       "        vertical-align: top;\n",
       "    }\n",
       "\n",
       "    .dataframe thead th {\n",
       "        text-align: right;\n",
       "    }\n",
       "</style>\n",
       "<table border=\"1\" class=\"dataframe\">\n",
       "  <thead>\n",
       "    <tr style=\"text-align: right;\">\n",
       "      <th></th>\n",
       "      <th>sepal_length</th>\n",
       "      <th>sepal_width</th>\n",
       "      <th>petal_length</th>\n",
       "      <th>petal_width</th>\n",
       "      <th>species</th>\n",
       "    </tr>\n",
       "  </thead>\n",
       "  <tbody>\n",
       "    <tr>\n",
       "      <th>0</th>\n",
       "      <td>5.1</td>\n",
       "      <td>3.5</td>\n",
       "      <td>1.4</td>\n",
       "      <td>0.2</td>\n",
       "      <td>setosa</td>\n",
       "    </tr>\n",
       "    <tr>\n",
       "      <th>1</th>\n",
       "      <td>4.9</td>\n",
       "      <td>3.0</td>\n",
       "      <td>1.4</td>\n",
       "      <td>0.2</td>\n",
       "      <td>setosa</td>\n",
       "    </tr>\n",
       "    <tr>\n",
       "      <th>2</th>\n",
       "      <td>4.7</td>\n",
       "      <td>3.2</td>\n",
       "      <td>1.3</td>\n",
       "      <td>0.2</td>\n",
       "      <td>setosa</td>\n",
       "    </tr>\n",
       "    <tr>\n",
       "      <th>3</th>\n",
       "      <td>4.6</td>\n",
       "      <td>3.1</td>\n",
       "      <td>1.5</td>\n",
       "      <td>0.2</td>\n",
       "      <td>setosa</td>\n",
       "    </tr>\n",
       "    <tr>\n",
       "      <th>4</th>\n",
       "      <td>5.0</td>\n",
       "      <td>3.6</td>\n",
       "      <td>1.4</td>\n",
       "      <td>0.2</td>\n",
       "      <td>setosa</td>\n",
       "    </tr>\n",
       "    <tr>\n",
       "      <th>...</th>\n",
       "      <td>...</td>\n",
       "      <td>...</td>\n",
       "      <td>...</td>\n",
       "      <td>...</td>\n",
       "      <td>...</td>\n",
       "    </tr>\n",
       "    <tr>\n",
       "      <th>145</th>\n",
       "      <td>6.7</td>\n",
       "      <td>3.0</td>\n",
       "      <td>5.2</td>\n",
       "      <td>2.3</td>\n",
       "      <td>virginica</td>\n",
       "    </tr>\n",
       "    <tr>\n",
       "      <th>146</th>\n",
       "      <td>6.3</td>\n",
       "      <td>2.5</td>\n",
       "      <td>5.0</td>\n",
       "      <td>1.9</td>\n",
       "      <td>virginica</td>\n",
       "    </tr>\n",
       "    <tr>\n",
       "      <th>147</th>\n",
       "      <td>6.5</td>\n",
       "      <td>3.0</td>\n",
       "      <td>5.2</td>\n",
       "      <td>2.0</td>\n",
       "      <td>virginica</td>\n",
       "    </tr>\n",
       "    <tr>\n",
       "      <th>148</th>\n",
       "      <td>6.2</td>\n",
       "      <td>3.4</td>\n",
       "      <td>5.4</td>\n",
       "      <td>2.3</td>\n",
       "      <td>virginica</td>\n",
       "    </tr>\n",
       "    <tr>\n",
       "      <th>149</th>\n",
       "      <td>5.9</td>\n",
       "      <td>3.0</td>\n",
       "      <td>5.1</td>\n",
       "      <td>1.8</td>\n",
       "      <td>virginica</td>\n",
       "    </tr>\n",
       "  </tbody>\n",
       "</table>\n",
       "<p>150 rows × 5 columns</p>\n",
       "</div>"
      ],
      "text/plain": [
       "     sepal_length  sepal_width  petal_length  petal_width    species\n",
       "0             5.1          3.5           1.4          0.2     setosa\n",
       "1             4.9          3.0           1.4          0.2     setosa\n",
       "2             4.7          3.2           1.3          0.2     setosa\n",
       "3             4.6          3.1           1.5          0.2     setosa\n",
       "4             5.0          3.6           1.4          0.2     setosa\n",
       "..            ...          ...           ...          ...        ...\n",
       "145           6.7          3.0           5.2          2.3  virginica\n",
       "146           6.3          2.5           5.0          1.9  virginica\n",
       "147           6.5          3.0           5.2          2.0  virginica\n",
       "148           6.2          3.4           5.4          2.3  virginica\n",
       "149           5.9          3.0           5.1          1.8  virginica\n",
       "\n",
       "[150 rows x 5 columns]"
      ]
     },
     "execution_count": 108,
     "metadata": {},
     "output_type": "execute_result"
    }
   ],
   "source": [
    "iris=sns.load_dataset(\"iris\")\n",
    "iris"
   ]
  },
  {
   "cell_type": "code",
   "execution_count": 109,
   "id": "baa2eef8",
   "metadata": {},
   "outputs": [],
   "source": [
    "iris_setosa=iris[iris[\"species\"]==\"setosa\"]\n",
    "iris_versicolor=iris[iris[\"species\"]==\"versicolor\"]\n",
    "iris_virginica=iris[iris[\"species\"]==\"virginica\"]\n"
   ]
  },
  {
   "cell_type": "code",
   "execution_count": 110,
   "id": "983ae753",
   "metadata": {},
   "outputs": [
    {
     "data": {
      "image/png": "[encoded data removed]",
      "text/plain": [
       "<Figure size 432x288 with 1 Axes>"
      ]
     },
     "metadata": {
      "needs_background": "light"
     },
     "output_type": "display_data"
    }
   ],
   "source": [
    "plt.hist(iris_setosa[\"petal_length\"]);\n"
   ]
  },
  {
   "cell_type": "code",
   "execution_count": 111,
   "id": "50db8a9e",
   "metadata": {},
   "outputs": [
    {
     "data": {
      "text/plain": [
       "array([ 1,  1,  2,  7, 13, 13,  7,  4,  0,  2], dtype=int64)"
      ]
     },
     "execution_count": 111,
     "metadata": {},
     "output_type": "execute_result"
    }
   ],
   "source": [
    "counts,bins=np.histogram(iris_setosa[\"petal_length\"])\n",
    "counts"
   ]
  },
  {
   "cell_type": "code",
   "execution_count": 112,
   "id": "c5f448ff",
   "metadata": {},
   "outputs": [
    {
     "data": {
      "text/plain": [
       "array([0.02, 0.02, 0.04, 0.14, 0.26, 0.26, 0.14, 0.08, 0.  , 0.04])"
      ]
     },
     "execution_count": 112,
     "metadata": {},
     "output_type": "execute_result"
    }
   ],
   "source": [
    "pdf=counts/sum(counts)\n",
    "pdf"
   ]
  },
  {
   "cell_type": "code",
   "execution_count": 113,
   "id": "51395211",
   "metadata": {},
   "outputs": [
    {
     "data": {
      "image/png": "[encoded data removed]",
      "text/plain": [
       "<Figure size 432x288 with 1 Axes>"
      ]
     },
     "metadata": {
      "needs_background": "light"
     },
     "output_type": "display_data"
    }
   ],
   "source": [
    "plt.plot(bins[:10],pdf);"
   ]
  },
  {
   "cell_type": "code",
   "execution_count": 114,
   "id": "67ae1614",
   "metadata": {},
   "outputs": [],
   "source": [
    "cdf=np.cumsum(pdf)"
   ]
  },
  {
   "cell_type": "code",
   "execution_count": 115,
   "id": "c828017f",
   "metadata": {},
   "outputs": [
    {
     "data": {
      "image/png": "[encoded data removed]",
      "text/plain": [
       "<Figure size 432x288 with 1 Axes>"
      ]
     },
     "metadata": {
      "needs_background": "light"
     },
     "output_type": "display_data"
    }
   ],
   "source": [
    "plt.plot(bins[:10],cdf);"
   ]
  },
  {
   "cell_type": "code",
   "execution_count": 116,
   "id": "79cc1f3d",
   "metadata": {},
   "outputs": [
    {
     "data": {
      "image/png": "[encoded data removed]",
      "text/plain": [
       "<Figure size 432x288 with 1 Axes>"
      ]
     },
     "metadata": {
      "needs_background": "light"
     },
     "output_type": "display_data"
    }
   ],
   "source": [
    "plt.plot(bins[:10],pdf);\n",
    "plt.plot(bins[:10],cdf);"
   ]
  },
  {
   "cell_type": "code",
   "execution_count": 117,
   "id": "70d44fe3",
   "metadata": {},
   "outputs": [
    {
     "data": {
      "image/png": "[encoded data removed]",
      "text/plain": [
       "<Figure size 432x288 with 1 Axes>"
      ]
     },
     "metadata": {
      "needs_background": "light"
     },
     "output_type": "display_data"
    }
   ],
   "source": [
    "counts,bins=np.histogram(iris_virginica[\"petal_length\"],bins=10)\n",
    "pdf=counts/sum(counts)\n",
    "cdf=np.cumsum(pdf)\n",
    "plt.plot(bins[1:],pdf)\n",
    "plt.plot(bins[1:],cdf)\n",
    "counts,bins=np.histogram(iris_versicolor[\"petal_length\"],bins=10)\n",
    "pdf=counts/sum(counts)\n",
    "cdf=np.cumsum(pdf)\n",
    "plt.plot(bins[1:],pdf)\n",
    "plt.plot(bins[1:],cdf)\n",
    "counts,bins=np.histogram(iris_setosa[\"petal_length\"],bins=10)\n",
    "pdf=counts/sum(counts)\n",
    "cdf=np.cumsum(pdf)\n",
    "plt.plot(bins[1:],pdf)\n",
    "plt.plot(bins[1:],cdf);\n",
    "\n",
    "\n"
   ]
  },
  {
   "cell_type": "markdown",
   "id": "4ce61a85",
   "metadata": {},
   "source": [
    "## Inferential Stats\n",
    "- Conclution of population\n",
    "## Centeral limit Theorem(CLT)\n",
    "- specific to general\n",
    "- It is used to conclude the any paprametre of the population\n",
    "- mean of sample mean is approx = to population mean\n",
    "- mean of sampling distribution( probalility of means of the samples ) approximately equal to population mean\n",
    "- std.deviation=smple deviation*underroot(no.of samples)"
   ]
  },
  {
   "cell_type": "code",
   "execution_count": 118,
   "id": "c0452cea",
   "metadata": {},
   "outputs": [
    {
     "data": {
      "text/plain": [
       "3.0"
      ]
     },
     "execution_count": 118,
     "metadata": {},
     "output_type": "execute_result"
    }
   ],
   "source": [
    "(3.5+2.5+2.25+4+3+2.25+4.5+1.25+3.5+3.25)/10\n"
   ]
  },
  {
   "cell_type": "code",
   "execution_count": 119,
   "id": "c098a388",
   "metadata": {},
   "outputs": [
    {
     "data": {
      "text/html": [
       "<div>\n",
       "<style scoped>\n",
       "    .dataframe tbody tr th:only-of-type {\n",
       "        vertical-align: middle;\n",
       "    }\n",
       "\n",
       "    .dataframe tbody tr th {\n",
       "        vertical-align: top;\n",
       "    }\n",
       "\n",
       "    .dataframe thead th {\n",
       "        text-align: right;\n",
       "    }\n",
       "</style>\n",
       "<table border=\"1\" class=\"dataframe\">\n",
       "  <thead>\n",
       "    <tr style=\"text-align: right;\">\n",
       "      <th></th>\n",
       "      <th>Id</th>\n",
       "      <th>EmployeeName</th>\n",
       "      <th>JobTitle</th>\n",
       "      <th>BasePay</th>\n",
       "      <th>OvertimePay</th>\n",
       "      <th>OtherPay</th>\n",
       "      <th>Benefits</th>\n",
       "      <th>TotalPay</th>\n",
       "      <th>TotalPayBenefits</th>\n",
       "      <th>Year</th>\n",
       "      <th>Notes</th>\n",
       "      <th>Agency</th>\n",
       "      <th>Status</th>\n",
       "    </tr>\n",
       "  </thead>\n",
       "  <tbody>\n",
       "    <tr>\n",
       "      <th>0</th>\n",
       "      <td>1</td>\n",
       "      <td>NATHANIEL FORD</td>\n",
       "      <td>GENERAL MANAGER-METROPOLITAN TRANSIT AUTHORITY</td>\n",
       "      <td>167411.18</td>\n",
       "      <td>0.0</td>\n",
       "      <td>400184.25</td>\n",
       "      <td>NaN</td>\n",
       "      <td>567595.43</td>\n",
       "      <td>567595.43</td>\n",
       "      <td>2011</td>\n",
       "      <td>NaN</td>\n",
       "      <td>San Francisco</td>\n",
       "      <td>NaN</td>\n",
       "    </tr>\n",
       "    <tr>\n",
       "      <th>1</th>\n",
       "      <td>2</td>\n",
       "      <td>GARY JIMENEZ</td>\n",
       "      <td>CAPTAIN III (POLICE DEPARTMENT)</td>\n",
       "      <td>155966.02</td>\n",
       "      <td>245131.88</td>\n",
       "      <td>137811.38</td>\n",
       "      <td>NaN</td>\n",
       "      <td>538909.28</td>\n",
       "      <td>538909.28</td>\n",
       "      <td>2011</td>\n",
       "      <td>NaN</td>\n",
       "      <td>San Francisco</td>\n",
       "      <td>NaN</td>\n",
       "    </tr>\n",
       "    <tr>\n",
       "      <th>2</th>\n",
       "      <td>3</td>\n",
       "      <td>ALBERT PARDINI</td>\n",
       "      <td>CAPTAIN III (POLICE DEPARTMENT)</td>\n",
       "      <td>212739.13</td>\n",
       "      <td>106088.18</td>\n",
       "      <td>16452.6</td>\n",
       "      <td>NaN</td>\n",
       "      <td>335279.91</td>\n",
       "      <td>335279.91</td>\n",
       "      <td>2011</td>\n",
       "      <td>NaN</td>\n",
       "      <td>San Francisco</td>\n",
       "      <td>NaN</td>\n",
       "    </tr>\n",
       "    <tr>\n",
       "      <th>3</th>\n",
       "      <td>4</td>\n",
       "      <td>CHRISTOPHER CHONG</td>\n",
       "      <td>WIRE ROPE CABLE MAINTENANCE MECHANIC</td>\n",
       "      <td>77916.0</td>\n",
       "      <td>56120.71</td>\n",
       "      <td>198306.9</td>\n",
       "      <td>NaN</td>\n",
       "      <td>332343.61</td>\n",
       "      <td>332343.61</td>\n",
       "      <td>2011</td>\n",
       "      <td>NaN</td>\n",
       "      <td>San Francisco</td>\n",
       "      <td>NaN</td>\n",
       "    </tr>\n",
       "    <tr>\n",
       "      <th>4</th>\n",
       "      <td>5</td>\n",
       "      <td>PATRICK GARDNER</td>\n",
       "      <td>DEPUTY CHIEF OF DEPARTMENT,(FIRE DEPARTMENT)</td>\n",
       "      <td>134401.6</td>\n",
       "      <td>9737.0</td>\n",
       "      <td>182234.59</td>\n",
       "      <td>NaN</td>\n",
       "      <td>326373.19</td>\n",
       "      <td>326373.19</td>\n",
       "      <td>2011</td>\n",
       "      <td>NaN</td>\n",
       "      <td>San Francisco</td>\n",
       "      <td>NaN</td>\n",
       "    </tr>\n",
       "    <tr>\n",
       "      <th>...</th>\n",
       "      <td>...</td>\n",
       "      <td>...</td>\n",
       "      <td>...</td>\n",
       "      <td>...</td>\n",
       "      <td>...</td>\n",
       "      <td>...</td>\n",
       "      <td>...</td>\n",
       "      <td>...</td>\n",
       "      <td>...</td>\n",
       "      <td>...</td>\n",
       "      <td>...</td>\n",
       "      <td>...</td>\n",
       "      <td>...</td>\n",
       "    </tr>\n",
       "    <tr>\n",
       "      <th>148649</th>\n",
       "      <td>148650</td>\n",
       "      <td>Roy I Tillery</td>\n",
       "      <td>Custodian</td>\n",
       "      <td>0.00</td>\n",
       "      <td>0.00</td>\n",
       "      <td>0.00</td>\n",
       "      <td>0.00</td>\n",
       "      <td>0.00</td>\n",
       "      <td>0.00</td>\n",
       "      <td>2014</td>\n",
       "      <td>NaN</td>\n",
       "      <td>San Francisco</td>\n",
       "      <td>PT</td>\n",
       "    </tr>\n",
       "    <tr>\n",
       "      <th>148650</th>\n",
       "      <td>148651</td>\n",
       "      <td>Not provided</td>\n",
       "      <td>Not provided</td>\n",
       "      <td>Not Provided</td>\n",
       "      <td>Not Provided</td>\n",
       "      <td>Not Provided</td>\n",
       "      <td>Not Provided</td>\n",
       "      <td>0.00</td>\n",
       "      <td>0.00</td>\n",
       "      <td>2014</td>\n",
       "      <td>NaN</td>\n",
       "      <td>San Francisco</td>\n",
       "      <td>NaN</td>\n",
       "    </tr>\n",
       "    <tr>\n",
       "      <th>148651</th>\n",
       "      <td>148652</td>\n",
       "      <td>Not provided</td>\n",
       "      <td>Not provided</td>\n",
       "      <td>Not Provided</td>\n",
       "      <td>Not Provided</td>\n",
       "      <td>Not Provided</td>\n",
       "      <td>Not Provided</td>\n",
       "      <td>0.00</td>\n",
       "      <td>0.00</td>\n",
       "      <td>2014</td>\n",
       "      <td>NaN</td>\n",
       "      <td>San Francisco</td>\n",
       "      <td>NaN</td>\n",
       "    </tr>\n",
       "    <tr>\n",
       "      <th>148652</th>\n",
       "      <td>148653</td>\n",
       "      <td>Not provided</td>\n",
       "      <td>Not provided</td>\n",
       "      <td>Not Provided</td>\n",
       "      <td>Not Provided</td>\n",
       "      <td>Not Provided</td>\n",
       "      <td>Not Provided</td>\n",
       "      <td>0.00</td>\n",
       "      <td>0.00</td>\n",
       "      <td>2014</td>\n",
       "      <td>NaN</td>\n",
       "      <td>San Francisco</td>\n",
       "      <td>NaN</td>\n",
       "    </tr>\n",
       "    <tr>\n",
       "      <th>148653</th>\n",
       "      <td>148654</td>\n",
       "      <td>Joe Lopez</td>\n",
       "      <td>Counselor, Log Cabin Ranch</td>\n",
       "      <td>0.00</td>\n",
       "      <td>0.00</td>\n",
       "      <td>-618.13</td>\n",
       "      <td>0.00</td>\n",
       "      <td>-618.13</td>\n",
       "      <td>-618.13</td>\n",
       "      <td>2014</td>\n",
       "      <td>NaN</td>\n",
       "      <td>San Francisco</td>\n",
       "      <td>PT</td>\n",
       "    </tr>\n",
       "  </tbody>\n",
       "</table>\n",
       "<p>148654 rows × 13 columns</p>\n",
       "</div>"
      ],
      "text/plain": [
       "            Id       EmployeeName  \\\n",
       "0            1     NATHANIEL FORD   \n",
       "1            2       GARY JIMENEZ   \n",
       "2            3     ALBERT PARDINI   \n",
       "3            4  CHRISTOPHER CHONG   \n",
       "4            5    PATRICK GARDNER   \n",
       "...        ...                ...   \n",
       "148649  148650      Roy I Tillery   \n",
       "148650  148651       Not provided   \n",
       "148651  148652       Not provided   \n",
       "148652  148653       Not provided   \n",
       "148653  148654          Joe Lopez   \n",
       "\n",
       "                                              JobTitle       BasePay  \\\n",
       "0       GENERAL MANAGER-METROPOLITAN TRANSIT AUTHORITY     167411.18   \n",
       "1                      CAPTAIN III (POLICE DEPARTMENT)     155966.02   \n",
       "2                      CAPTAIN III (POLICE DEPARTMENT)     212739.13   \n",
       "3                 WIRE ROPE CABLE MAINTENANCE MECHANIC       77916.0   \n",
       "4         DEPUTY CHIEF OF DEPARTMENT,(FIRE DEPARTMENT)      134401.6   \n",
       "...                                                ...           ...   \n",
       "148649                                       Custodian          0.00   \n",
       "148650                                    Not provided  Not Provided   \n",
       "148651                                    Not provided  Not Provided   \n",
       "148652                                    Not provided  Not Provided   \n",
       "148653                      Counselor, Log Cabin Ranch          0.00   \n",
       "\n",
       "         OvertimePay      OtherPay      Benefits   TotalPay  TotalPayBenefits  \\\n",
       "0                0.0     400184.25           NaN  567595.43         567595.43   \n",
       "1          245131.88     137811.38           NaN  538909.28         538909.28   \n",
       "2          106088.18       16452.6           NaN  335279.91         335279.91   \n",
       "3           56120.71      198306.9           NaN  332343.61         332343.61   \n",
       "4             9737.0     182234.59           NaN  326373.19         326373.19   \n",
       "...              ...           ...           ...        ...               ...   \n",
       "148649          0.00          0.00          0.00       0.00              0.00   \n",
       "148650  Not Provided  Not Provided  Not Provided       0.00              0.00   \n",
       "148651  Not Provided  Not Provided  Not Provided       0.00              0.00   \n",
       "148652  Not Provided  Not Provided  Not Provided       0.00              0.00   \n",
       "148653          0.00       -618.13          0.00    -618.13           -618.13   \n",
       "\n",
       "        Year  Notes         Agency Status  \n",
       "0       2011    NaN  San Francisco    NaN  \n",
       "1       2011    NaN  San Francisco    NaN  \n",
       "2       2011    NaN  San Francisco    NaN  \n",
       "3       2011    NaN  San Francisco    NaN  \n",
       "4       2011    NaN  San Francisco    NaN  \n",
       "...      ...    ...            ...    ...  \n",
       "148649  2014    NaN  San Francisco     PT  \n",
       "148650  2014    NaN  San Francisco    NaN  \n",
       "148651  2014    NaN  San Francisco    NaN  \n",
       "148652  2014    NaN  San Francisco    NaN  \n",
       "148653  2014    NaN  San Francisco     PT  \n",
       "\n",
       "[148654 rows x 13 columns]"
      ]
     },
     "execution_count": 119,
     "metadata": {},
     "output_type": "execute_result"
    }
   ],
   "source": [
    "df=pd.read_csv(\"E:\\\\data sets-20221116T065822Z-001\\\\data sets\\\\Salaries.csv\")\n",
    "df"
   ]
  },
  {
   "cell_type": "code",
   "execution_count": 120,
   "id": "a1ca0bc7",
   "metadata": {},
   "outputs": [
    {
     "data": {
      "text/plain": [
       "(120000,)"
      ]
     },
     "execution_count": 120,
     "metadata": {},
     "output_type": "execute_result"
    }
   ],
   "source": [
    "df_salaries=df[\"TotalPay\"][0:120000]\n",
    "df_salaries.shape"
   ]
  },
  {
   "cell_type": "code",
   "execution_count": 121,
   "id": "4fb2728f",
   "metadata": {},
   "outputs": [
    {
     "name": "stdout",
     "output_type": "stream",
     "text": [
      "actual population mean is : 80104.43551225861\n",
      "actual population std is : 52460.94537685056\n"
     ]
    }
   ],
   "source": [
    "### Method 1: \n",
    "polulation_mean=df_salaries.mean()  ##print(np.mean(df_salaries))\n",
    "print(\"actual population mean is :\",polulation_mean) ## actual mean \n",
    "polulation_std=df_salaries.std()  ## actual std \n",
    "print(\"actual population std is :\",polulation_std)\n",
    "## but this method is tedious in real scenario  . so CLT comes into picture \n",
    "\n",
    "\n"
   ]
  },
  {
   "cell_type": "markdown",
   "id": "770088d5",
   "metadata": {},
   "source": [
    "## using clt we can see disribution is not normal"
   ]
  },
  {
   "cell_type": "code",
   "execution_count": 122,
   "id": "5c8eea7d",
   "metadata": {},
   "outputs": [
    {
     "data": {
      "image/png": "[encoded data removed]",
      "text/plain": [
       "<Figure size 432x288 with 1 Axes>"
      ]
     },
     "metadata": {
      "needs_background": "light"
     },
     "output_type": "display_data"
    }
   ],
   "source": [
    "sns.distplot(df_salaries);"
   ]
  },
  {
   "cell_type": "markdown",
   "id": "e924fc4a",
   "metadata": {},
   "source": [
    "## Apply CLT"
   ]
  },
  {
   "cell_type": "code",
   "execution_count": 123,
   "id": "45c7b152",
   "metadata": {},
   "outputs": [],
   "source": [
    "import numpy as np\n",
    "l1=[]\n",
    "a1=np.array(l1)\n",
    "def sample_means(sample_size):\n",
    "    l=[]\n",
    "    for i in range(0,1000):  ## taking 1000 samples each of size 10\n",
    "        s=df_salaries.sample(sample_size) ## random sampling\n",
    "        mean=s.mean()\n",
    "        l.append(mean)\n",
    "    a1=np.array(l)\n",
    "    print(\"approximate mean for population(salary) \",a1.mean())### sample means (obserevd values which is approximate to true/actual mean of population 80104.43551225861\n",
    "    std_sample=a1.std()\n",
    "    #print( std_sample/np.sqrt(10))\n",
    "    std_population=std_sample*np.sqrt(sample_size)\n",
    "    print(\"approximate std for population(salary) \",std_population)\n",
    "    sns.distplot(a1) ;\n"
   ]
  },
  {
   "cell_type": "code",
   "execution_count": 124,
   "id": "0a81b93b",
   "metadata": {},
   "outputs": [
    {
     "name": "stdout",
     "output_type": "stream",
     "text": [
      "approximate mean for population(salary)  78800.556084\n",
      "approximate std for population(salary)  52943.737388549904\n"
     ]
    },
    {
     "data": {
      "image/png": "[encoded data removed]",
      "text/plain": [
       "<Figure size 432x288 with 1 Axes>"
      ]
     },
     "metadata": {
      "needs_background": "light"
     },
     "output_type": "display_data"
    }
   ],
   "source": [
    "sample_means(5);"
   ]
  },
  {
   "cell_type": "code",
   "execution_count": 125,
   "id": "d9138920",
   "metadata": {},
   "outputs": [
    {
     "name": "stdout",
     "output_type": "stream",
     "text": [
      "approximate mean for population(salary)  80063.54239099998\n",
      "approximate std for population(salary)  52971.759951053624\n"
     ]
    },
    {
     "data": {
      "image/png": "[encoded data removed]",
      "text/plain": [
       "<Figure size 432x288 with 1 Axes>"
      ]
     },
     "metadata": {
      "needs_background": "light"
     },
     "output_type": "display_data"
    }
   ],
   "source": [
    "#Let’s use the function to calculate mean and plot the distribution for sample size =10\n",
    "sample_means(10);\n"
   ]
  },
  {
   "cell_type": "code",
   "execution_count": 126,
   "id": "076aeaed",
   "metadata": {},
   "outputs": [
    {
     "name": "stdout",
     "output_type": "stream",
     "text": [
      "approximate mean for population(salary)  80498.08910666665\n",
      "approximate std for population(salary)  52632.104214183026\n"
     ]
    },
    {
     "data": {
      "image/png": "[encoded data removed]",
      "text/plain": [
       "<Figure size 432x288 with 1 Axes>"
      ]
     },
     "metadata": {
      "needs_background": "light"
     },
     "output_type": "display_data"
    }
   ],
   "source": [
    "##Let’s use the function to calculate mean and plot the distribution for sample size =30\n",
    "sample_means(30);\n",
    "\n",
    "\n"
   ]
  },
  {
   "cell_type": "markdown",
   "id": "61d25290",
   "metadata": {},
   "source": [
    "### calculate a 95% confidence interval for sample mean of 40 and std of 40 with a sample size=100"
   ]
  },
  {
   "cell_type": "code",
   "execution_count": 127,
   "id": "7e67d7e4",
   "metadata": {},
   "outputs": [
    {
     "data": {
      "text/plain": [
       "47.84"
      ]
     },
     "execution_count": 127,
     "metadata": {},
     "output_type": "execute_result"
    }
   ],
   "source": [
    "40+(1.96*40)/(100)**.5"
   ]
  },
  {
   "cell_type": "code",
   "execution_count": 128,
   "id": "b369d962",
   "metadata": {},
   "outputs": [
    {
     "data": {
      "text/plain": [
       "32.16"
      ]
     },
     "execution_count": 128,
     "metadata": {},
     "output_type": "execute_result"
    }
   ],
   "source": [
    "40-(1.96*40)/(100)**.5"
   ]
  },
  {
   "cell_type": "markdown",
   "id": "135f1ca6",
   "metadata": {},
   "source": [
    "- it means 95% of values lies between 32.16 to 47.84 out of 100"
   ]
  },
  {
   "cell_type": "markdown",
   "id": "94b34195",
   "metadata": {},
   "source": [
    "## Hypothesis Testing\n",
    "- General to specific\n",
    "- alpha(Significance level,critical value,probability threshold) to decide the criticl region"
   ]
  },
  {
   "cell_type": "markdown",
   "id": "11ba301a",
   "metadata": {},
   "source": [
    "### Q. A manufacturer of printer cartridge clams that a certain cartridge manufactured by him has a mean\n",
    "### printing capacity of at least 500 pages. A wholesale purchaser selects a sample of 100 printers and\n",
    "### tests them. The mean printing capacity of the sample came out to be 490 pages with a standard\n",
    "### deviation of 3 printing pages.alpha is 0.05\n",
    "### shuold the purchaser reject the claim of the manufacture at a significance level of 5%\n",
    "\n",
    "\n"
   ]
  },
  {
   "cell_type": "markdown",
   "id": "ea49670c",
   "metadata": {},
   "source": [
    "## t- test"
   ]
  },
  {
   "cell_type": "markdown",
   "id": "cdb2fcd6",
   "metadata": {},
   "source": [
    "### A tyre manufacturer claims that the average life of a particular category of its tyre is 18000km\n",
    "### when used under normal driving conditions. A random sample of 16 tyres was tested. The mean and\n",
    "### SD of life of the tyres in the sample were 20000 km and 6000 km respectively.\n",
    "### alpha=0.01\n",
    "\n"
   ]
  },
  {
   "cell_type": "markdown",
   "id": "acc5f3bf",
   "metadata": {},
   "source": [
    "## z testand t test questions"
   ]
  },
  {
   "cell_type": "markdown",
   "id": "a7235d10",
   "metadata": {},
   "source": [
    "- 1. A company used a specific brand of Tube lights in the past which has an average life of 1000 hours.\n",
    "A new brand has approached the company with new Tube lights with same power at a lower price. A\n",
    "sample of 120 light bulbs were taken for testing which yielded an average of 1010 hours with standard\n",
    "deviation of 90 hours. Should the company give the contract to this new company at a 1% significance\n",
    "level.\n",
    "Also, find the confidence interval.\n",
    "\n",
    "- 2. An online grocery shop claims that the mean delivery time is equal and greater than 120 minutes with a standard deviation of 30 minutes. A random sample of 49 orders is delivered with a mean of 100 minutes. At 95% confidence level, is there enough evidence to support the claim?\n",
    "\n",
    "\n",
    "- 3. Princeton school science teacher claims that students in his section will score at most marks than those in his colleague’s section. The mean science score for 60 students in his section is 22.1, and the standard deviation is 4.8. The mean science score for 40 of the colleagues’ sections is 18.8, and the standard deviation is 8.1. At α = 0.05, can the teacher’s claim be supported?\n",
    "\n",
    "\n",
    "\n",
    "\n"
   ]
  }
 ],
 "metadata": {
  "kernelspec": {
   "display_name": "Python 3 (ipykernel)",
   "language": "python",
   "name": "python3"
  },
  "language_info": {
   "codemirror_mode": {
    "name": "ipython",
    "version": 3
   },
   "file_extension": ".py",
   "mimetype": "text/x-python",
   "name": "python",
   "nbconvert_exporter": "python",
   "pygments_lexer": "ipython3",
   "version": "3.9.13"
  }
 },
 "nbformat": 4,
 "nbformat_minor": 5
}
